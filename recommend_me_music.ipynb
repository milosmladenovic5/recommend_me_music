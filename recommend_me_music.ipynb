{
 "cells": [
  {
   "cell_type": "code",
   "execution_count": 1,
   "metadata": {
    "collapsed": false
   },
   "outputs": [
    {
     "name": "stderr",
     "output_type": "stream",
     "text": [
      "C:\\Users\\Milos\\Anaconda3\\lib\\site-packages\\sklearn\\cross_validation.py:41: DeprecationWarning: This module was deprecated in version 0.18 in favor of the model_selection module into which all the refactored classes and functions are moved. Also note that the interface of the new CV iterators are different from that of this module. This module will be removed in 0.20.\n",
      "  \"This module will be removed in 0.20.\", DeprecationWarning)\n"
     ]
    }
   ],
   "source": [
    "import numpy as np\n",
    "import pandas as pd\n",
    "import scipy.sparse as sp\n",
    "from scipy.sparse.linalg import svds\n",
    "from sklearn.metrics.pairwise import pairwise_distances\n",
    "from sklearn.cross_validation import train_test_split\n",
    "from sklearn.metrics import mean_squared_error\n",
    "from math import sqrt\n",
    "import time\n",
    "import matplotlib.pyplot as plt\n",
    "\n",
    "import warnings; warnings.simplefilter('ignore')"
   ]
  },
  {
   "cell_type": "code",
   "execution_count": 2,
   "metadata": {
    "collapsed": true
   },
   "outputs": [],
   "source": [
    "music_rat_df = pd.read_json(\"data/Digital_Music_5.json\", lines = True)\n",
    "#meta_df = pd.read_json(\"meta_Digital_Music.json\", lines = True)"
   ]
  },
  {
   "cell_type": "code",
   "execution_count": 3,
   "metadata": {
    "collapsed": false
   },
   "outputs": [],
   "source": [
    "music_rat_df = music_rat_df[['asin', 'overall', 'reviewText', 'reviewerID', 'reviewerName', 'summary']]"
   ]
  },
  {
   "cell_type": "code",
   "execution_count": 4,
   "metadata": {
    "collapsed": false
   },
   "outputs": [],
   "source": [
    "music_rat_df.rename(columns = {'asin':'artist_id', 'overall':'rating', 'reviewerID':'reviewer_id', 'reviewerName':'reviewer_name', 'reviewText':'review_text'}, inplace = True)"
   ]
  },
  {
   "cell_type": "code",
   "execution_count": 73,
   "metadata": {
    "collapsed": false
   },
   "outputs": [
    {
     "data": {
      "text/html": [
       "<div>\n",
       "<style scoped>\n",
       "    .dataframe tbody tr th:only-of-type {\n",
       "        vertical-align: middle;\n",
       "    }\n",
       "\n",
       "    .dataframe tbody tr th {\n",
       "        vertical-align: top;\n",
       "    }\n",
       "\n",
       "    .dataframe thead th {\n",
       "        text-align: right;\n",
       "    }\n",
       "</style>\n",
       "<table border=\"1\" class=\"dataframe\">\n",
       "  <thead>\n",
       "    <tr style=\"text-align: right;\">\n",
       "      <th></th>\n",
       "      <th>artist_id</th>\n",
       "      <th>rating</th>\n",
       "      <th>review_text</th>\n",
       "      <th>reviewer_id</th>\n",
       "      <th>reviewer_name</th>\n",
       "      <th>summary</th>\n",
       "    </tr>\n",
       "  </thead>\n",
       "  <tbody>\n",
       "    <tr>\n",
       "      <th>64701</th>\n",
       "      <td>B00KILDVEI</td>\n",
       "      <td>4</td>\n",
       "      <td>I like the reggae sound a lot in this song. I ...</td>\n",
       "      <td>A1PQ1PESSO8CMO</td>\n",
       "      <td>Ginger Christmas</td>\n",
       "      <td>Cool song</td>\n",
       "    </tr>\n",
       "    <tr>\n",
       "      <th>64702</th>\n",
       "      <td>B00KILDVEI</td>\n",
       "      <td>5</td>\n",
       "      <td>I first heard this on Sirius and had to have i...</td>\n",
       "      <td>A120RH58WVY4W6</td>\n",
       "      <td>Kelly Dunwell \"avid reader\"</td>\n",
       "      <td>Great Song</td>\n",
       "    </tr>\n",
       "    <tr>\n",
       "      <th>64703</th>\n",
       "      <td>B00KILDVEI</td>\n",
       "      <td>5</td>\n",
       "      <td>I absolutely love this song, it downloaded fin...</td>\n",
       "      <td>A19VJ2IQLO50G0</td>\n",
       "      <td>melinda</td>\n",
       "      <td>Five Stars</td>\n",
       "    </tr>\n",
       "    <tr>\n",
       "      <th>64704</th>\n",
       "      <td>B00KILDVEI</td>\n",
       "      <td>3</td>\n",
       "      <td>Reggae, island beats aren't really my cup of t...</td>\n",
       "      <td>AUDSM2CTLLW1Q</td>\n",
       "      <td>Patrick L. Randall</td>\n",
       "      <td>Well-crafted song</td>\n",
       "    </tr>\n",
       "    <tr>\n",
       "      <th>64705</th>\n",
       "      <td>B00KILDVEI</td>\n",
       "      <td>1</td>\n",
       "      <td>Magic! is a Canadian band that incorporates re...</td>\n",
       "      <td>A1GN8UJIZLCA59</td>\n",
       "      <td>P Magnum</td>\n",
       "      <td>Souless Reggae</td>\n",
       "    </tr>\n",
       "  </tbody>\n",
       "</table>\n",
       "</div>"
      ],
      "text/plain": [
       "        artist_id  rating                                        review_text  \\\n",
       "64701  B00KILDVEI       4  I like the reggae sound a lot in this song. I ...   \n",
       "64702  B00KILDVEI       5  I first heard this on Sirius and had to have i...   \n",
       "64703  B00KILDVEI       5  I absolutely love this song, it downloaded fin...   \n",
       "64704  B00KILDVEI       3  Reggae, island beats aren't really my cup of t...   \n",
       "64705  B00KILDVEI       1  Magic! is a Canadian band that incorporates re...   \n",
       "\n",
       "          reviewer_id                reviewer_name            summary  \n",
       "64701  A1PQ1PESSO8CMO             Ginger Christmas          Cool song  \n",
       "64702  A120RH58WVY4W6  Kelly Dunwell \"avid reader\"         Great Song  \n",
       "64703  A19VJ2IQLO50G0                      melinda         Five Stars  \n",
       "64704   AUDSM2CTLLW1Q           Patrick L. Randall  Well-crafted song  \n",
       "64705  A1GN8UJIZLCA59                     P Magnum     Souless Reggae  "
      ]
     },
     "execution_count": 73,
     "metadata": {},
     "output_type": "execute_result"
    }
   ],
   "source": [
    "music_rat_df.tail()"
   ]
  },
  {
   "cell_type": "code",
   "execution_count": 6,
   "metadata": {
    "collapsed": false
   },
   "outputs": [
    {
     "data": {
      "text/html": [
       "<div>\n",
       "<style scoped>\n",
       "    .dataframe tbody tr th:only-of-type {\n",
       "        vertical-align: middle;\n",
       "    }\n",
       "\n",
       "    .dataframe tbody tr th {\n",
       "        vertical-align: top;\n",
       "    }\n",
       "\n",
       "    .dataframe thead th {\n",
       "        text-align: right;\n",
       "    }\n",
       "</style>\n",
       "<table border=\"1\" class=\"dataframe\">\n",
       "  <thead>\n",
       "    <tr style=\"text-align: right;\">\n",
       "      <th>artist_id</th>\n",
       "      <th>5555991584</th>\n",
       "      <th>B0000000ZW</th>\n",
       "      <th>B00000016T</th>\n",
       "      <th>B00000016W</th>\n",
       "      <th>B00000017R</th>\n",
       "      <th>B0000001P4</th>\n",
       "      <th>B0000002HZ</th>\n",
       "      <th>B0000002J9</th>\n",
       "      <th>B0000002JR</th>\n",
       "      <th>B0000002ME</th>\n",
       "      <th>...</th>\n",
       "      <th>B00II5VHBU</th>\n",
       "      <th>B00IOVH8AW</th>\n",
       "      <th>B00IXZ9QP4</th>\n",
       "      <th>B00J80ED9M</th>\n",
       "      <th>B00JJCQRDE</th>\n",
       "      <th>B00JJOG5D4</th>\n",
       "      <th>B00JRBLSR2</th>\n",
       "      <th>B00JTHVWO8</th>\n",
       "      <th>B00JYKU6BK</th>\n",
       "      <th>B00KILDVEI</th>\n",
       "    </tr>\n",
       "    <tr>\n",
       "      <th>reviewer_id</th>\n",
       "      <th></th>\n",
       "      <th></th>\n",
       "      <th></th>\n",
       "      <th></th>\n",
       "      <th></th>\n",
       "      <th></th>\n",
       "      <th></th>\n",
       "      <th></th>\n",
       "      <th></th>\n",
       "      <th></th>\n",
       "      <th></th>\n",
       "      <th></th>\n",
       "      <th></th>\n",
       "      <th></th>\n",
       "      <th></th>\n",
       "      <th></th>\n",
       "      <th></th>\n",
       "      <th></th>\n",
       "      <th></th>\n",
       "      <th></th>\n",
       "      <th></th>\n",
       "    </tr>\n",
       "  </thead>\n",
       "  <tbody>\n",
       "    <tr>\n",
       "      <th>A08161909WK3HU7UYTMW</th>\n",
       "      <td>0.0</td>\n",
       "      <td>0.0</td>\n",
       "      <td>0.0</td>\n",
       "      <td>0.0</td>\n",
       "      <td>0.0</td>\n",
       "      <td>0.0</td>\n",
       "      <td>0.0</td>\n",
       "      <td>0.0</td>\n",
       "      <td>0.0</td>\n",
       "      <td>0.0</td>\n",
       "      <td>...</td>\n",
       "      <td>0.0</td>\n",
       "      <td>0.0</td>\n",
       "      <td>0.0</td>\n",
       "      <td>0.0</td>\n",
       "      <td>0.0</td>\n",
       "      <td>0.0</td>\n",
       "      <td>0.0</td>\n",
       "      <td>0.0</td>\n",
       "      <td>0.0</td>\n",
       "      <td>0.0</td>\n",
       "    </tr>\n",
       "    <tr>\n",
       "      <th>A1020L7BWW9RAX</th>\n",
       "      <td>0.0</td>\n",
       "      <td>0.0</td>\n",
       "      <td>0.0</td>\n",
       "      <td>0.0</td>\n",
       "      <td>0.0</td>\n",
       "      <td>0.0</td>\n",
       "      <td>0.0</td>\n",
       "      <td>0.0</td>\n",
       "      <td>0.0</td>\n",
       "      <td>0.0</td>\n",
       "      <td>...</td>\n",
       "      <td>0.0</td>\n",
       "      <td>0.0</td>\n",
       "      <td>0.0</td>\n",
       "      <td>0.0</td>\n",
       "      <td>0.0</td>\n",
       "      <td>0.0</td>\n",
       "      <td>0.0</td>\n",
       "      <td>0.0</td>\n",
       "      <td>0.0</td>\n",
       "      <td>0.0</td>\n",
       "    </tr>\n",
       "    <tr>\n",
       "      <th>A10323WWTFPSGP</th>\n",
       "      <td>0.0</td>\n",
       "      <td>0.0</td>\n",
       "      <td>0.0</td>\n",
       "      <td>0.0</td>\n",
       "      <td>0.0</td>\n",
       "      <td>0.0</td>\n",
       "      <td>0.0</td>\n",
       "      <td>0.0</td>\n",
       "      <td>0.0</td>\n",
       "      <td>0.0</td>\n",
       "      <td>...</td>\n",
       "      <td>0.0</td>\n",
       "      <td>0.0</td>\n",
       "      <td>0.0</td>\n",
       "      <td>0.0</td>\n",
       "      <td>0.0</td>\n",
       "      <td>0.0</td>\n",
       "      <td>0.0</td>\n",
       "      <td>0.0</td>\n",
       "      <td>0.0</td>\n",
       "      <td>0.0</td>\n",
       "    </tr>\n",
       "    <tr>\n",
       "      <th>A103KNDW8GN92L</th>\n",
       "      <td>0.0</td>\n",
       "      <td>0.0</td>\n",
       "      <td>0.0</td>\n",
       "      <td>0.0</td>\n",
       "      <td>0.0</td>\n",
       "      <td>0.0</td>\n",
       "      <td>0.0</td>\n",
       "      <td>0.0</td>\n",
       "      <td>0.0</td>\n",
       "      <td>0.0</td>\n",
       "      <td>...</td>\n",
       "      <td>0.0</td>\n",
       "      <td>0.0</td>\n",
       "      <td>0.0</td>\n",
       "      <td>0.0</td>\n",
       "      <td>0.0</td>\n",
       "      <td>0.0</td>\n",
       "      <td>0.0</td>\n",
       "      <td>0.0</td>\n",
       "      <td>0.0</td>\n",
       "      <td>0.0</td>\n",
       "    </tr>\n",
       "    <tr>\n",
       "      <th>A103W7ZPKGOCC9</th>\n",
       "      <td>0.0</td>\n",
       "      <td>0.0</td>\n",
       "      <td>0.0</td>\n",
       "      <td>0.0</td>\n",
       "      <td>0.0</td>\n",
       "      <td>0.0</td>\n",
       "      <td>0.0</td>\n",
       "      <td>0.0</td>\n",
       "      <td>0.0</td>\n",
       "      <td>0.0</td>\n",
       "      <td>...</td>\n",
       "      <td>0.0</td>\n",
       "      <td>0.0</td>\n",
       "      <td>0.0</td>\n",
       "      <td>0.0</td>\n",
       "      <td>0.0</td>\n",
       "      <td>0.0</td>\n",
       "      <td>0.0</td>\n",
       "      <td>0.0</td>\n",
       "      <td>0.0</td>\n",
       "      <td>0.0</td>\n",
       "    </tr>\n",
       "  </tbody>\n",
       "</table>\n",
       "<p>5 rows × 3568 columns</p>\n",
       "</div>"
      ],
      "text/plain": [
       "artist_id             5555991584  B0000000ZW  B00000016T  B00000016W  \\\n",
       "reviewer_id                                                            \n",
       "A08161909WK3HU7UYTMW         0.0         0.0         0.0         0.0   \n",
       "A1020L7BWW9RAX               0.0         0.0         0.0         0.0   \n",
       "A10323WWTFPSGP               0.0         0.0         0.0         0.0   \n",
       "A103KNDW8GN92L               0.0         0.0         0.0         0.0   \n",
       "A103W7ZPKGOCC9               0.0         0.0         0.0         0.0   \n",
       "\n",
       "artist_id             B00000017R  B0000001P4  B0000002HZ  B0000002J9  \\\n",
       "reviewer_id                                                            \n",
       "A08161909WK3HU7UYTMW         0.0         0.0         0.0         0.0   \n",
       "A1020L7BWW9RAX               0.0         0.0         0.0         0.0   \n",
       "A10323WWTFPSGP               0.0         0.0         0.0         0.0   \n",
       "A103KNDW8GN92L               0.0         0.0         0.0         0.0   \n",
       "A103W7ZPKGOCC9               0.0         0.0         0.0         0.0   \n",
       "\n",
       "artist_id             B0000002JR  B0000002ME     ...      B00II5VHBU  \\\n",
       "reviewer_id                                      ...                   \n",
       "A08161909WK3HU7UYTMW         0.0         0.0     ...             0.0   \n",
       "A1020L7BWW9RAX               0.0         0.0     ...             0.0   \n",
       "A10323WWTFPSGP               0.0         0.0     ...             0.0   \n",
       "A103KNDW8GN92L               0.0         0.0     ...             0.0   \n",
       "A103W7ZPKGOCC9               0.0         0.0     ...             0.0   \n",
       "\n",
       "artist_id             B00IOVH8AW  B00IXZ9QP4  B00J80ED9M  B00JJCQRDE  \\\n",
       "reviewer_id                                                            \n",
       "A08161909WK3HU7UYTMW         0.0         0.0         0.0         0.0   \n",
       "A1020L7BWW9RAX               0.0         0.0         0.0         0.0   \n",
       "A10323WWTFPSGP               0.0         0.0         0.0         0.0   \n",
       "A103KNDW8GN92L               0.0         0.0         0.0         0.0   \n",
       "A103W7ZPKGOCC9               0.0         0.0         0.0         0.0   \n",
       "\n",
       "artist_id             B00JJOG5D4  B00JRBLSR2  B00JTHVWO8  B00JYKU6BK  \\\n",
       "reviewer_id                                                            \n",
       "A08161909WK3HU7UYTMW         0.0         0.0         0.0         0.0   \n",
       "A1020L7BWW9RAX               0.0         0.0         0.0         0.0   \n",
       "A10323WWTFPSGP               0.0         0.0         0.0         0.0   \n",
       "A103KNDW8GN92L               0.0         0.0         0.0         0.0   \n",
       "A103W7ZPKGOCC9               0.0         0.0         0.0         0.0   \n",
       "\n",
       "artist_id             B00KILDVEI  \n",
       "reviewer_id                       \n",
       "A08161909WK3HU7UYTMW         0.0  \n",
       "A1020L7BWW9RAX               0.0  \n",
       "A10323WWTFPSGP               0.0  \n",
       "A103KNDW8GN92L               0.0  \n",
       "A103W7ZPKGOCC9               0.0  \n",
       "\n",
       "[5 rows x 3568 columns]"
      ]
     },
     "execution_count": 6,
     "metadata": {},
     "output_type": "execute_result"
    }
   ],
   "source": [
    "us_rat_df = music_rat_df.pivot(index = 'reviewer_id', columns ='artist_id', values = 'rating').fillna(0)\n",
    "us_rat_df.head()"
   ]
  },
  {
   "cell_type": "code",
   "execution_count": 7,
   "metadata": {
    "collapsed": false
   },
   "outputs": [
    {
     "name": "stdout",
     "output_type": "stream",
     "text": [
      "Number of reviewers: 5541\n",
      "Number of items rated: 3568\n"
     ]
    }
   ],
   "source": [
    "print (\"Number of reviewers: \"+ str(len(music_rat_df['reviewer_id'].unique())))\n",
    "print (\"Number of items rated: \" + str(len(music_rat_df['artist_id'].unique())))"
   ]
  },
  {
   "cell_type": "code",
   "execution_count": 8,
   "metadata": {
    "collapsed": false
   },
   "outputs": [],
   "source": [
    "n_unique_users = music_rat_df['reviewer_id'].nunique()\n",
    "n_unique_artists = music_rat_df['artist_id'].nunique()"
   ]
  },
  {
   "cell_type": "code",
   "execution_count": 9,
   "metadata": {
    "collapsed": false
   },
   "outputs": [
    {
     "name": "stdout",
     "output_type": "stream",
     "text": [
      "The sparsity level of dataset is 99.7%\n"
     ]
    }
   ],
   "source": [
    "#Calculate sparsity level of dataset matrix\n",
    "\n",
    "sparsity=round(1.0-len(music_rat_df)/float(n_unique_users*n_unique_artists),3)\n",
    "print('The sparsity level of dataset is ' +  str(sparsity*100) + '%')"
   ]
  },
  {
   "cell_type": "markdown",
   "metadata": {},
   "source": [
    "# Train Test Split"
   ]
  },
  {
   "cell_type": "code",
   "execution_count": 10,
   "metadata": {
    "collapsed": true
   },
   "outputs": [],
   "source": [
    "train_data, test_data = train_test_split(us_rat_df, test_size = 0.25)"
   ]
  },
  {
   "cell_type": "code",
   "execution_count": 11,
   "metadata": {
    "collapsed": false
   },
   "outputs": [],
   "source": [
    "#Create two user-item matrices, one for training and another for testing\n",
    "\n",
    "train_data_matrix = train_data.as_matrix()\n",
    "test_data_matrix = test_data.as_matrix()"
   ]
  },
  {
   "cell_type": "markdown",
   "metadata": {},
   "source": [
    "# Memory-Based Collaborative Filtering"
   ]
  },
  {
   "cell_type": "markdown",
   "metadata": {},
   "source": [
    "- <h4> First calculate similarity between users </h4>\n",
    "<p> For that purpose, we will use the following formula: \n",
    "<img class=\"aligncenter size-thumbnail img-responsive\" src=\"https://latex.codecogs.com/gif.latex?s_u^{cos}(u_k,u_a)=\\frac{u_k&space;\\cdot&space;u_a&space;}{&space;\\left&space;\\|&space;u_k&space;\\right&space;\\|&space;\\left&space;\\|&space;u_a&space;\\right&space;\\|&space;}&space;=\\frac{\\sum&space;x_{k,m}x_{a,m}}{\\sqrt{\\sum&space;x_{k,m}^2\\sum&space;x_{a,m}^2}}\"/>"
   ]
  },
  {
   "cell_type": "code",
   "execution_count": 12,
   "metadata": {
    "collapsed": false
   },
   "outputs": [],
   "source": [
    "#First calculate similarity between users|\n",
    "user_similarity = pairwise_distances(train_data_matrix, metric = 'cosine')"
   ]
  },
  {
   "cell_type": "markdown",
   "metadata": {},
   "source": [
    " - <h4> Then calculate similarity between artists </h4>\n",
    " <p> For that purpose, similar formula will be used:</p>\n",
    " \n",
    " <img class=\"aligncenter size-thumbnail img-responsive\" src=\"https://latex.codecogs.com/gif.latex?s_u^{cos}(i_m,i_b)=\\frac{i_m&space;\\cdot&space;i_b&space;}{&space;\\left&space;\\|&space;i_m&space;\\right&space;\\|&space;\\left&space;\\|&space;i_b&space;\\right&space;\\|&space;}&space;=\\frac{\\sum&space;x_{a,m}x_{a,b}}{\\sqrt{\\sum&space;x_{a,m}^2\\sum&space;x_{a,b}^2}}\n",
    "\"/>"
   ]
  },
  {
   "cell_type": "code",
   "execution_count": 13,
   "metadata": {
    "collapsed": false
   },
   "outputs": [],
   "source": [
    "#Next calculate similarity between artists\n",
    "artist_similarity = pairwise_distances(train_data_matrix.T, metric = 'cosine')"
   ]
  },
  {
   "cell_type": "code",
   "execution_count": 14,
   "metadata": {
    "collapsed": false
   },
   "outputs": [],
   "source": [
    "def predict_ratings (ratings, similarity, type = 'user'):\n",
    "    if type =='user':\n",
    "        mean_user_rating = ratings.mean(axis = 1)\n",
    "        #We use np.newaxis so that mean_user_rating has same format as ratings\n",
    "        ratings_diff = (ratings - mean_user_rating[:, np.newaxis])\n",
    "        prediction = mean_user_rating[:, np.newaxis] + similarity.dot(ratings_diff) / np.array([np.abs(similarity).sum(axis=1)]).T\n",
    "    elif type == 'artist':\n",
    "        prediction = ratings.dot(similarity) / np.array([np.abs(similarity).sum(axis=1)])     \n",
    "    return prediction"
   ]
  },
  {
   "cell_type": "code",
   "execution_count": 15,
   "metadata": {
    "collapsed": false
   },
   "outputs": [],
   "source": [
    "#Get predictions\n",
    "user_prediction = predict_ratings(train_data_matrix, user_similarity, type ='user')\n",
    "artist_prediction = predict_ratings(train_data_matrix, artist_similarity, type = 'artist')"
   ]
  },
  {
   "cell_type": "markdown",
   "metadata": {},
   "source": [
    "- <h4> Evaluate model performance using RMSE : </h4>\n",
    "<img src=\"https://latex.codecogs.com/gif.latex?RMSE&space;=\\sqrt{\\frac{1}{N}&space;\\sum&space;(x_i&space;-\\hat{x_i})^2}\" title=\"RMSE =\\sqrt{\\frac{1}{N} \\sum (x_i -\\hat{x_i})^2}\" />"
   ]
  },
  {
   "cell_type": "code",
   "execution_count": 16,
   "metadata": {
    "collapsed": true
   },
   "outputs": [],
   "source": [
    "def rmse(prediction, ground_truth):\n",
    "    prediction = prediction[ground_truth.nonzero()].flatten() \n",
    "    ground_truth = ground_truth[ground_truth.nonzero()].flatten()\n",
    "    return sqrt(mean_squared_error(prediction, ground_truth))"
   ]
  },
  {
   "cell_type": "code",
   "execution_count": 17,
   "metadata": {
    "collapsed": false
   },
   "outputs": [
    {
     "name": "stdout",
     "output_type": "stream",
     "text": [
      "User-based CF RMSE: 4.326908108238543\n",
      "Artist-based CF RMSE: 4.344369190577104\n"
     ]
    }
   ],
   "source": [
    "print('User-based CF RMSE: ' + str(rmse(user_prediction, test_data_matrix)))\n",
    "print('Artist-based CF RMSE: ' + str(rmse(artist_prediction, test_data_matrix)))"
   ]
  },
  {
   "cell_type": "markdown",
   "metadata": {},
   "source": [
    "- <h3> Check performance of the model by using given predictions for rating to get information about artists that the given user would like </h3>"
   ]
  },
  {
   "cell_type": "code",
   "execution_count": 18,
   "metadata": {
    "collapsed": false
   },
   "outputs": [
    {
     "data": {
      "text/plain": [
       "array([0.17016655, 0.15505977, 0.13713975, ..., 0.00204533, 0.00179163,\n",
       "       0.00131712])"
      ]
     },
     "execution_count": 18,
     "metadata": {},
     "output_type": "execute_result"
    }
   ],
   "source": [
    "#Return for the given user_id 10 most similar users\n",
    "#def most_similar_ten(user_id, user_similarity_matrix):\n",
    "def highest_rated_indices(user_id, user_prediction, us_rat_df):\n",
    "    index = 0\n",
    "    for i in range(0, us_rat_df.shape[0]-1):\n",
    "        if us_rat_df.index.values[i] == user_id:\n",
    "            index = i\n",
    "    \n",
    "    pred_arr = np.argsort(user_prediction[index][::-1])\n",
    "    pred_arr = pred_arr[0:10]\n",
    "    \n",
    "    return pred_arr    "
   ]
  },
  {
   "cell_type": "code",
   "execution_count": 36,
   "metadata": {
    "collapsed": false
   },
   "outputs": [
    {
     "data": {
      "text/plain": [
       "2820"
      ]
     },
     "execution_count": 36,
     "metadata": {},
     "output_type": "execute_result"
    }
   ],
   "source": [
    "hr = highest_rated_indices('A1020L7BWW9RAX', user_prediction, us_rat_df)\n",
    "hr[1]"
   ]
  },
  {
   "cell_type": "code",
   "execution_count": 47,
   "metadata": {
    "collapsed": false
   },
   "outputs": [
    {
     "data": {
      "text/plain": [
       "'B0013L5M08'"
      ]
     },
     "execution_count": 47,
     "metadata": {},
     "output_type": "execute_result"
    }
   ],
   "source": [
    "us_rat_df.columns.values[hr[1]]"
   ]
  },
  {
   "cell_type": "code",
   "execution_count": 50,
   "metadata": {
    "collapsed": false
   },
   "outputs": [],
   "source": [
    "def get_artist_ids(us_rat_df, indices):\n",
    "    ids = []\n",
    "    \n",
    "    for i in range(0, indices.shape[0]-1):\n",
    "        ids.append(us_rat_df.columns.values[indices[i]])     \n",
    "    return ids"
   ]
  },
  {
   "cell_type": "code",
   "execution_count": 56,
   "metadata": {
    "collapsed": false
   },
   "outputs": [],
   "source": [
    "ai = get_artist_ids(us_rat_df, hr)   "
   ]
  },
  {
   "cell_type": "code",
   "execution_count": 71,
   "metadata": {
    "collapsed": true
   },
   "outputs": [],
   "source": [
    "def get_artists_description(artist_ids, music_df):\n",
    "    descriptions = []\n",
    "    \n",
    "    for i in range(0, len(artist_ids) - 1):\n",
    "        res_df = music_df.query(\"artist_id == '\" + artist_ids[i] + \"'\")\n",
    "        descriptions.append(res_df['summary'].tolist())\n",
    "    return descriptions\n",
    "        "
   ]
  },
  {
   "cell_type": "code",
   "execution_count": 72,
   "metadata": {
    "collapsed": false
   },
   "outputs": [
    {
     "data": {
      "text/plain": [
       "[['This album is an absolute dream!',\n",
       "  'Lush??',\n",
       "  'IVY Does It Again!',\n",
       "  'Not a Good Effort',\n",
       "  'A warm, enjoyable album of covers'],\n",
       " ['A Superb If Incomplete Introduction To The Reprise Years.',\n",
       "  'Missing Quite a Lot',\n",
       "  'wonderful compilation',\n",
       "  \"A Fine Summation of the Artist, But You'll Want Much More\",\n",
       "  'Several tracks contain some seriously misguided remixing attempts',\n",
       "  \"Nice introduction to Mr. Sinatra's music\",\n",
       "  'The voice: ten years after',\n",
       "  'Sinatra sets the mood everytime!',\n",
       "  \"New Jersey's Best\",\n",
       "  'Wonderful Frank Sinatra!',\n",
       "  \"certainly not all of Frank's best--but it's still all right by me !!!\",\n",
       "  'classics from Ole Blue Eyes',\n",
       "  \"OLD BLUE EYES SINGING 'MANY' OF HIS VERY BEST!\",\n",
       "  'Everything Is Simply Beautiful!',\n",
       "  'Wonderful!!!!!!!',\n",
       "  \"It's Been Done Before, but Great Sound\",\n",
       "  \"Ol' Blue Eyes was the God of male vocalists\",\n",
       "  \"Doubling the gold standard (deserves even a Sinatra collector's attention)\",\n",
       "  \"What a fine selection of Sinatra's work\",\n",
       "  'For the Uninitiated, This is a Great Place to Start',\n",
       "  'Simply One of Our Best Artists in History',\n",
       "  'The Chairman of The Board Does His Thing',\n",
       "  'Nothing But The Best (...but far from all of it)'],\n",
       " ['Classic Laura',\n",
       "  \"Laura Nyro's Beads Of Sweat\",\n",
       "  '\"Unsung\" legendary masterpiece~Bravo  Laura Nyro!!!',\n",
       "  'Intimate and soulful: Yet another Nyro masterpiece.',\n",
       "  \"Midpoint between early Nyro and her '70s experimentation.\",\n",
       "  'A Truly Underappreciated Recording; Nyro Near Her Peak',\n",
       "  \"CHRISTMAS All Year 'Round\",\n",
       "  'More great music by Laura Nyro',\n",
       "  'An American treasure hands down the greatest song writer',\n",
       "  'I am absolutely ASTOUNDED at the sheer stupidity of SONY/BMG (US) SHAME!',\n",
       "  'Most difficult Nyro album, but still wonderful',\n",
       "  'Up on the Roof with Nyro',\n",
       "  'Superb',\n",
       "  'Laura Nyro, a truly under-appreciated genius',\n",
       "  \"Laura's 4th recording not to be missed, part of her best.\",\n",
       "  'Her suite of songs'],\n",
       " ['Traffic, Part Two',\n",
       "  'talented bands deserve to be remembered',\n",
       "  'were it not for the missing songs',\n",
       "  'One hell of a record',\n",
       "  \"Traffic's best\",\n",
       "  'Their Most Focused Release',\n",
       "  'their best with Mason',\n",
       "  \"Traffic's second album\",\n",
       "  \"Cryin' To Be Heard\",\n",
       "  \"Feelin' Alright\",\n",
       "  'Vintage Classic Rock!',\n",
       "  'The Pearly Queen meets 40,000 Headmen...',\n",
       "  'Great Songwriting Great Ensemble Work',\n",
       "  'A Balm for the Wounds from Reality........',\n",
       "  'a great cd of fusion and fun.',\n",
       "  'Traffic:  Five Stars Plus!',\n",
       "  'Great Traffic Album',\n",
       "  \"one of traffic's best\",\n",
       "  'best traffic album',\n",
       "  \"Traffic's Second Album Is Great\",\n",
       "  \"Finally Feelin' Alright about this great album\"],\n",
       " ['Cool album!',\n",
       "  'Slowhand',\n",
       "  'This is why they call him &quot;Slowhand&quot;',\n",
       "  'The Core\" of the matter is worth owning 3.5 stars!',\n",
       "  \"Clapton's best work\",\n",
       "  'Overrated',\n",
       "  'An essential for any rock aficionado.',\n",
       "  'SLOW AND STEADY WINS THE RACE!',\n",
       "  'The definition of \"mediocre\"',\n",
       "  'Clapton Gets Commercial With Good Results!',\n",
       "  'All the tracks are amazing',\n",
       "  'Certainly Solid',\n",
       "  'Masterful Country Blues from Clapton',\n",
       "  'Wherein We See That 461 OB was no fluke, and that EC will endure',\n",
       "  'Slowhand at his best solo album',\n",
       "  'Slowly and wonderfully',\n",
       "  'One of my favorites',\n",
       "  \"Eric Clapton's 1977 Album Is Mostly Laid Back Material.\",\n",
       "  '\"Slowhand\" - A Signature Clapton Classic!!!',\n",
       "  'A PLEASURE',\n",
       "  'One of his finest',\n",
       "  'Wrongly Titled Bodge!',\n",
       "  'Clapton Is God!',\n",
       "  'Eric Clapton - Slowhand',\n",
       "  'NOT five',\n",
       "  'Strong Hand',\n",
       "  'This Timeless Masterpiece Just Got Bigger And Better!',\n",
       "  '2nd favorite from Eric Clapton.',\n",
       "  \"Late '70s Country-Rock Classic\",\n",
       "  'Great Eric Clapton Solo Album'],\n",
       " ['2.5 Stars: Disappointing',\n",
       "  'Bringing the rest of the world into \"Focus\"',\n",
       "  'He plays like an angel',\n",
       "  'NEITHER FISH NOR FOWL',\n",
       "  'GREAT COMBINATION',\n",
       "  'Truly hypnotic brilliance.',\n",
       "  'Getz favorite album',\n",
       "  'A Mesmerizing Work Of Musical Art!'],\n",
       " ['This is a record to dance to....',\n",
       "  'Let Down',\n",
       "  \"What A Letdown - Don't Believe the Hype\",\n",
       "  'excellent and a half`',\n",
       "  'At War with the Mystics',\n",
       "  'Soon to Become Classic',\n",
       "  'Alright',\n",
       "  'Staying Power',\n",
       "  'Compression at absurd levels.',\n",
       "  'The Best since \"Soft Bulletin\"',\n",
       "  'Great Fun',\n",
       "  'With all your powers...',\n",
       "  'almost 4 stars-  WAR is on!!',\n",
       "  'A Great Album... Yeah Yeah Yeah Yeah Yeah...',\n",
       "  'Only a fool believes that he is different....',\n",
       "  '4 1/2 stars.',\n",
       "  'they might be human after all....',\n",
       "  'Less lingering',\n",
       "  'solid follow up to Yoshimi',\n",
       "  'Great but different...',\n",
       "  'The Lips at their quirky best',\n",
       "  'Happiness and joy',\n",
       "  'Do I Stand a Chance?',\n",
       "  'The sound of pushing yourself creatively.',\n",
       "  'uneven, but restlessly creative, with some tremendous highlights',\n",
       "  'no chapped lips here...',\n",
       "  'Worse than the Soft Bulletin',\n",
       "  'My jaw dropped off, but after putting it on again, it fell off again!',\n",
       "  'Oh yes, B*****s.',\n",
       "  'Every Time You State Your Case',\n",
       "  \"my first flaming lips album - i'm impressed\",\n",
       "  'Shit yes!!',\n",
       "  'What would you do? With all your power!!!',\n",
       "  'Set the controls for the heart of Oklahoma',\n",
       "  'Near as Good as TSB, and better than Yoshimi, a little politics',\n",
       "  'Its not as good as Yoshimi, but it was unlikly to be, but its still a great album never the less',\n",
       "  'At War With Themselves',\n",
       "  \"Lips Do Their Version of Floyd's _Animals_\",\n",
       "  'I love this disk...'],\n",
       " ['Good',\n",
       "  'A True Artist',\n",
       "  'Not One Good Song On this One!',\n",
       "  '\"What turns me on is so surreal...\"',\n",
       "  'Jewel Is Amazing!',\n",
       "  'The album with TEETH!',\n",
       "  '3-1/2 stars',\n",
       "  'Favorite by far',\n",
       "  'Boxful of Jewel',\n",
       "  'Great CD!',\n",
       "  \"Let Jewel Lead The 'Way'\",\n",
       "  \"A Little Bit Country & Rock 'n Roll\",\n",
       "  'Great Vocals + Great Production + Expanding Artist!',\n",
       "  'Just an overall beautiful person',\n",
       "  'Jewel masters the next step',\n",
       "  'The day Jewel sold out.....',\n",
       "  'Jewel strikes out in a promising direction.',\n",
       "  'Fantastic Jewel CD !!!!',\n",
       "  'I really like this CD',\n",
       "  'Finally...Jewel!',\n",
       "  '\".....Just let me feel your love again\"',\n",
       "  'Finally!',\n",
       "  'Really good album',\n",
       "  'awesome!',\n",
       "  'JEWELS &quot;SPIRIT&quot; IS NOW GOING &quot;THIS WAY&quot;',\n",
       "  'Love it!  This is the one I was waiting for!',\n",
       "  'Beautiful...',\n",
       "  'All Grown Up',\n",
       "  'Falling star.',\n",
       "  'Standing Still is the only good song',\n",
       "  'The best.',\n",
       "  'so much fun',\n",
       "  \"Jewel's latest &quot;way&quot; pretty smooth\",\n",
       "  'Good Country or F olk',\n",
       "  'Excellent, underappreciated album',\n",
       "  \"Some of Jewel's Best\",\n",
       "  \"I Don't Understand The Bad Ratings!  It's Great!\",\n",
       "  'Heading in the right direction',\n",
       "  'This way? No thanks, I prefere the other direction.',\n",
       "  'why?',\n",
       "  'very Middle of the Road',\n",
       "  'An honest and beautiful CD from Jewel',\n",
       "  'Not as spiritual as I would like, but quite good pop',\n",
       "  \"Jewel's Opus\",\n",
       "  'This Way; Jewels New Crown Jewel',\n",
       "  'This Way -Right Up My Alley',\n",
       "  'Ages Away from the &quot;Spirit&quot; Album',\n",
       "  'Harder Jewel',\n",
       "  'always by my side!!',\n",
       "  'Worth the wait',\n",
       "  'JEWEL - This Way is a GREAT CD from an evolving artist',\n",
       "  'Finally! Some new music from Jewel.',\n",
       "  'inspiring songs',\n",
       "  \"The best of Jewel's albums I own\",\n",
       "  'PURE TALENT!',\n",
       "  '3.5 stars...still goofy, but surprisingly enjoyable',\n",
       "  'THIS WAY BACK TO PIECES OF YOU AND WESTERN.',\n",
       "  'A slight departure, still great',\n",
       "  'a perfect Jewel',\n",
       "  'Great tunes',\n",
       "  'This Way',\n",
       "  'A New Jewel But Still Shining',\n",
       "  'Could be better',\n",
       "  'THIS WAY, THE RIGHT WAY',\n",
       "  'Good, but not her best',\n",
       "  'More albums should be done \"This Way\"',\n",
       "  'What happened?']]"
      ]
     },
     "execution_count": 72,
     "metadata": {},
     "output_type": "execute_result"
    }
   ],
   "source": [
    "get_artists_description(ai, music_rat_df)"
   ]
  },
  {
   "cell_type": "markdown",
   "metadata": {},
   "source": [
    "# Model-Based Collaborative filtering\n",
    "  - <b>SVD</b>"
   ]
  },
  {
   "cell_type": "code",
   "execution_count": 80,
   "metadata": {
    "collapsed": false
   },
   "outputs": [
    {
     "name": "stdout",
     "output_type": "stream",
     "text": [
      "User-based CF MSE: 4.332039981419453\n"
     ]
    }
   ],
   "source": [
    "#get SVD components from train matrix. Choose k.\n",
    "u, s, vt = svds(train_data_matrix, k = 15)\n",
    "s_diag_matrix=np.diag(s)\n",
    "predictions = np.dot(np.dot(u, s_diag_matrix), vt)\n",
    "print('User-based CF MSE: ' + str(rmse(predictions, test_data_matrix)))"
   ]
  },
  {
   "cell_type": "code",
   "execution_count": 83,
   "metadata": {
    "collapsed": true
   },
   "outputs": [],
   "source": [
    "hr_svd = highest_rated_indices('A1020L7BWW9RAX', predictions, us_rat_df)"
   ]
  },
  {
   "cell_type": "code",
   "execution_count": 84,
   "metadata": {
    "collapsed": true
   },
   "outputs": [],
   "source": [
    "ai_svd = get_artist_ids(us_rat_df, hr_svd)   "
   ]
  },
  {
   "cell_type": "code",
   "execution_count": 85,
   "metadata": {
    "collapsed": false
   },
   "outputs": [
    {
     "data": {
      "text/plain": [
       "[[\"Eurythmics Doin' It For Themselves\",\n",
       "  'FIVE STARS YES!',\n",
       "  'Good album but not their best one',\n",
       "  'Eurythmics: Be Yourself Tonight (1985)',\n",
       "  \"Best Pop Album of the 80's?\",\n",
       "  'The Eurythmics At Their Peak? R&B and New Wave Pop Collide',\n",
       "  'Their Most Cohesive',\n",
       "  'Lots of soul',\n",
       "  \"I'm Thrown And Overblown With Bliss.\",\n",
       "  'mixed emotions',\n",
       "  'A Landmark Album----The Eurythmics Best',\n",
       "  \"Eurythmics' best album\",\n",
       "  'Awesome and moving',\n",
       "  'Great Album!',\n",
       "  'Eurythmics \"rock out\" ... so to speak',\n",
       "  'you may not know the album, but you know the songs',\n",
       "  'Eurythmics cut loose',\n",
       "  'Soulful Annie and Dave'],\n",
       " [\"I can't believe I didn't own this sooner\",\n",
       "  'Great East Coast',\n",
       "  'raw genius',\n",
       "  'Uni-Bombs',\n",
       "  'Just a couple of kids from Queens',\n",
       "  'Untochable',\n",
       "  'Real Rap',\n",
       "  'Unparalleled Classic',\n",
       "  'Mobb Deep at their best!!!',\n",
       "  'The Infamous',\n",
       "  'The Mobb',\n",
       "  'Another \"oldschool\" classic - rap fans will LOVE it!',\n",
       "  'The Best Mobb Deep Album [5 stars]',\n",
       "  'There Famous 2nd Best Ever',\n",
       "  'Classic.',\n",
       "  'A grimy New York masterpiece',\n",
       "  'Infamous',\n",
       "  'hardcore to the next level',\n",
       "  'A Top 10 CD...No doubt',\n",
       "  'Mobb Deep- The Infamous',\n",
       "  'Street music...',\n",
       "  'Aint No Such Things as Halfway crooks',\n",
       "  'My GODDD!!',\n",
       "  'Another QB Classic. When does it stop????',\n",
       "  'Classic major label Debut',\n",
       "  '\"Put us together; it\\'s like mixing vodka and milk\"',\n",
       "  'Its the Infamous back in the house once again!',\n",
       "  'CLASSIC',\n",
       "  'Story-Telling on a New Level',\n",
       "  'What got things started for Mobb Deep',\n",
       "  'RaW',\n",
       "  'True Gangsta Rap',\n",
       "  'Classic',\n",
       "  'Infamous Mobb',\n",
       "  'possibly the most sadistic hip-hop album',\n",
       "  'Mobb Deep drop their 2nd LP.',\n",
       "  'Queensbridge classic',\n",
       "  'CLASSIC.',\n",
       "  'Just buy this cd already',\n",
       "  'Cradle to the Grave',\n",
       "  'The beginning of a legacy',\n",
       "  'The rawest and most lyrical album of all time, NON compare!!',\n",
       "  '95 CIRCA',\n",
       "  'Thug classic',\n",
       "  'ace',\n",
       "  'East coast realness',\n",
       "  'a true underground album',\n",
       "  'Infamous Classic',\n",
       "  'This is a gangsta classic',\n",
       "  'Few Cds are better than this',\n",
       "  'Classic from Queensbridge',\n",
       "  'Some more dope material, the way hip hop should be',\n",
       "  'A Classic',\n",
       "  'Sick Gangsta Rap',\n",
       "  \"One of QB'z Finest\",\n",
       "  'THE GREATEST GROUP OF ALL TIME',\n",
       "  \"Poor man's version of Illmatic.................\",\n",
       "  'GANGSTA RAP CLASSIC!!!!!!!!!!!!!!!!!!!!!!!!!!!!!!!!!!',\n",
       "  'Classic Mobb Deep Album!!!!',\n",
       "  'Landmark hardcore album',\n",
       "  'Dark, grimy tales from the slums of New York City',\n",
       "  \"HIP HOP'S DARKEST MASTERPIECE...\",\n",
       "  'Great Album !',\n",
       "  'The best Mobb Deep album EVER',\n",
       "  'Mobb Deep - Infamous',\n",
       "  'Love Mobb Deep'],\n",
       " ['The Final Conflict',\n",
       "  \"That's how we do it in th CHi\",\n",
       "  'NOT BETTER THAN THE 2nd !',\n",
       "  'no clones',\n",
       "  'Good',\n",
       "  'Chi-town represent',\n",
       "  'midwst Clazik!',\n",
       "  'Nation City Reppin On This',\n",
       "  'Original Concept Gone to Waste...'],\n",
       " [\"Grown & Sexy R&B At It's Finest\",\n",
       "  'For grown folks only!',\n",
       "  'One of the great forgotten soul crooners',\n",
       "  'Kool keith',\n",
       "  'Gives Luther Vandross a run for his money.',\n",
       "  'Now this brings back memories......',\n",
       "  'Amazing cd -Beautiful voice :-o)',\n",
       "  'Keith Washington: Make time for love!',\n",
       "  'I still remember this album!  Glorious, smooth R&B debut!'],\n",
       " ['Good for a beginner',\n",
       "  \"Can't Argue With The Music, But Buy The Albums\",\n",
       "  'Totally Cool',\n",
       "  '28 of their best.',\n",
       "  'great Rush collection for the casual fan',\n",
       "  'Excellent starter set for new and old fans alike',\n",
       "  'Chronicles is the Rush CD for Non-Rush Fans...',\n",
       "  'An Awesome &quot;Greatest Hits&quot; Album From The #1 Band',\n",
       "  '5 stars for the music, 4 stars for the compilation',\n",
       "  'Nice package for the non-fanatic',\n",
       "  \"The Definitive Rush Collection from the '70's and '80's!\",\n",
       "  'A good overview, with minor problems',\n",
       "  'I am very conflicted about this best of set...',\n",
       "  'Good Collection of Rush Classics'],\n",
       " ['Great music great recording.',\n",
       "  'I Forgot How Good They Were!',\n",
       "  'All The Cars Most People Will Ever Need',\n",
       "  'Just what I needed',\n",
       "  'Great sounding collection',\n",
       "  'A more hit-efficient collection of the Cars',\n",
       "  'JUST WHAT I NEEDED',\n",
       "  'Five Stars',\n",
       "  'Just What I Needed (and Wanted)',\n",
       "  'the spirit of the Cars lives',\n",
       "  'Recycled',\n",
       "  'By Far, the Best Compilation of the Band there Is!',\n",
       "  'Hits And Misses',\n",
       "  'Updates and betters the 1985 Greatest Hits',\n",
       "  'Will The REAL Greatest Hits Please Stand Up',\n",
       "  '&quot;Just What I Needed&quot;.',\n",
       "  'Not really 100% complete, but good anyway',\n",
       "  'these cars are fantastic',\n",
       "  'On Another Note...',\n",
       "  'Fantastic retrospective',\n",
       "  'An accurate document of the rise and fall of the Cars',\n",
       "  'Drive',\n",
       "  'Another album found',\n",
       "  'Sit Down And Enjoy A Nice Ride',\n",
       "  'Fantastic collection from an amazing band',\n",
       "  'FFO? (For Fans Only)',\n",
       "  'WHERE THE RUBBER MEETS THE ROAD',\n",
       "  'Cruising with the Cars',\n",
       "  'Essential 80s Music',\n",
       "  'ALL THEIR HITS ARE HERE',\n",
       "  'the Cars are the best',\n",
       "  'Very Good',\n",
       "  'Great reminder',\n",
       "  'A Nice Compilation',\n",
       "  'Tuneful rock hits',\n",
       "  'Roll With The Cars',\n",
       "  'a brilliant compilation',\n",
       "  \"Great compilation, but don't stop here!\",\n",
       "  'good times roll',\n",
       "  'The Cars is a timeless band...',\n",
       "  'Not Really Necessary, But Still Good',\n",
       "  'The Cars',\n",
       "  'Excellent Collection',\n",
       "  'Complete?  Not quite, but close enough',\n",
       "  'High Octane',\n",
       "  'Perfect Hits Collection',\n",
       "  'in the basement',\n",
       "  'GOOD TUNES',\n",
       "  'WHere is \"Heartbeat City\"'],\n",
       " ['Not Even Ready',\n",
       "  'Nice track',\n",
       "  'Is that Brittany Spears younger Sister??',\n",
       "  'how dare she rudely sample The Fugees!!!',\n",
       "  'Ready For Life'],\n",
       " ['Voice of the Cars!',\n",
       "  'An enjoyable, catchy album',\n",
       "  \"The late Benjamin Orr's only solo.\",\n",
       "  'Benjamin Orzechowski in the Spotlight',\n",
       "  'Great solo release!']]"
      ]
     },
     "execution_count": 85,
     "metadata": {},
     "output_type": "execute_result"
    }
   ],
   "source": [
    "get_artists_description(ai_svd, music_rat_df)"
   ]
  },
  {
   "cell_type": "code",
   "execution_count": null,
   "metadata": {
    "collapsed": true
   },
   "outputs": [],
   "source": []
  }
 ],
 "metadata": {
  "anaconda-cloud": {},
  "kernelspec": {
   "display_name": "Python [default]",
   "language": "python",
   "name": "python3"
  },
  "language_info": {
   "codemirror_mode": {
    "name": "ipython",
    "version": 3
   },
   "file_extension": ".py",
   "mimetype": "text/x-python",
   "name": "python",
   "nbconvert_exporter": "python",
   "pygments_lexer": "ipython3",
   "version": "3.5.2"
  }
 },
 "nbformat": 4,
 "nbformat_minor": 2
}
