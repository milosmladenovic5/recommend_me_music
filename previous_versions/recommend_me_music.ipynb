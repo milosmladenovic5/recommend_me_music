{
 "cells": [
  {
   "cell_type": "code",
   "execution_count": 1,
   "metadata": {
    "collapsed": false
   },
   "outputs": [
    {
     "name": "stderr",
     "output_type": "stream",
     "text": [
      "C:\\Users\\Milos\\Anaconda3\\lib\\site-packages\\sklearn\\cross_validation.py:41: DeprecationWarning: This module was deprecated in version 0.18 in favor of the model_selection module into which all the refactored classes and functions are moved. Also note that the interface of the new CV iterators are different from that of this module. This module will be removed in 0.20.\n",
      "  \"This module will be removed in 0.20.\", DeprecationWarning)\n"
     ]
    }
   ],
   "source": [
    "import numpy as np\n",
    "import pandas as pd\n",
    "import scipy.sparse as sp\n",
    "from scipy.sparse.linalg import svds\n",
    "from sklearn.metrics.pairwise import pairwise_distances\n",
    "from sklearn.cross_validation import train_test_split\n",
    "from sklearn.metrics import mean_squared_error\n",
    "from math import sqrt\n",
    "import time\n",
    "import matplotlib.pyplot as plt\n",
    "\n",
    "import warnings; warnings.simplefilter('ignore')"
   ]
  },
  {
   "cell_type": "code",
   "execution_count": 2,
   "metadata": {
    "collapsed": true
   },
   "outputs": [],
   "source": [
    "music_rat_df = pd.read_json(\"data/Digital_Music_5.json\", lines = True)\n",
    "#meta_df = pd.read_json(\"meta_Digital_Music.json\", lines = True)"
   ]
  },
  {
   "cell_type": "code",
   "execution_count": 3,
   "metadata": {
    "collapsed": false
   },
   "outputs": [],
   "source": [
    "music_rat_df = music_rat_df[['asin', 'overall', 'reviewText', 'reviewerID', 'reviewerName', 'summary']]"
   ]
  },
  {
   "cell_type": "code",
   "execution_count": 4,
   "metadata": {
    "collapsed": false
   },
   "outputs": [],
   "source": [
    "music_rat_df.rename(columns = {'asin':'artist_id', 'overall':'rating', 'reviewerID':'reviewer_id', 'reviewerName':'reviewer_name', 'reviewText':'review_text'}, inplace = True)"
   ]
  },
  {
   "cell_type": "code",
   "execution_count": 5,
   "metadata": {
    "collapsed": false
   },
   "outputs": [
    {
     "data": {
      "text/html": [
       "<div>\n",
       "<style scoped>\n",
       "    .dataframe tbody tr th:only-of-type {\n",
       "        vertical-align: middle;\n",
       "    }\n",
       "\n",
       "    .dataframe tbody tr th {\n",
       "        vertical-align: top;\n",
       "    }\n",
       "\n",
       "    .dataframe thead th {\n",
       "        text-align: right;\n",
       "    }\n",
       "</style>\n",
       "<table border=\"1\" class=\"dataframe\">\n",
       "  <thead>\n",
       "    <tr style=\"text-align: right;\">\n",
       "      <th></th>\n",
       "      <th>artist_id</th>\n",
       "      <th>rating</th>\n",
       "      <th>review_text</th>\n",
       "      <th>reviewer_id</th>\n",
       "      <th>reviewer_name</th>\n",
       "      <th>summary</th>\n",
       "    </tr>\n",
       "  </thead>\n",
       "  <tbody>\n",
       "    <tr>\n",
       "      <th>64701</th>\n",
       "      <td>B00KILDVEI</td>\n",
       "      <td>4</td>\n",
       "      <td>I like the reggae sound a lot in this song. I ...</td>\n",
       "      <td>A1PQ1PESSO8CMO</td>\n",
       "      <td>Ginger Christmas</td>\n",
       "      <td>Cool song</td>\n",
       "    </tr>\n",
       "    <tr>\n",
       "      <th>64702</th>\n",
       "      <td>B00KILDVEI</td>\n",
       "      <td>5</td>\n",
       "      <td>I first heard this on Sirius and had to have i...</td>\n",
       "      <td>A120RH58WVY4W6</td>\n",
       "      <td>Kelly Dunwell \"avid reader\"</td>\n",
       "      <td>Great Song</td>\n",
       "    </tr>\n",
       "    <tr>\n",
       "      <th>64703</th>\n",
       "      <td>B00KILDVEI</td>\n",
       "      <td>5</td>\n",
       "      <td>I absolutely love this song, it downloaded fin...</td>\n",
       "      <td>A19VJ2IQLO50G0</td>\n",
       "      <td>melinda</td>\n",
       "      <td>Five Stars</td>\n",
       "    </tr>\n",
       "    <tr>\n",
       "      <th>64704</th>\n",
       "      <td>B00KILDVEI</td>\n",
       "      <td>3</td>\n",
       "      <td>Reggae, island beats aren't really my cup of t...</td>\n",
       "      <td>AUDSM2CTLLW1Q</td>\n",
       "      <td>Patrick L. Randall</td>\n",
       "      <td>Well-crafted song</td>\n",
       "    </tr>\n",
       "    <tr>\n",
       "      <th>64705</th>\n",
       "      <td>B00KILDVEI</td>\n",
       "      <td>1</td>\n",
       "      <td>Magic! is a Canadian band that incorporates re...</td>\n",
       "      <td>A1GN8UJIZLCA59</td>\n",
       "      <td>P Magnum</td>\n",
       "      <td>Souless Reggae</td>\n",
       "    </tr>\n",
       "  </tbody>\n",
       "</table>\n",
       "</div>"
      ],
      "text/plain": [
       "        artist_id  rating                                        review_text  \\\n",
       "64701  B00KILDVEI       4  I like the reggae sound a lot in this song. I ...   \n",
       "64702  B00KILDVEI       5  I first heard this on Sirius and had to have i...   \n",
       "64703  B00KILDVEI       5  I absolutely love this song, it downloaded fin...   \n",
       "64704  B00KILDVEI       3  Reggae, island beats aren't really my cup of t...   \n",
       "64705  B00KILDVEI       1  Magic! is a Canadian band that incorporates re...   \n",
       "\n",
       "          reviewer_id                reviewer_name            summary  \n",
       "64701  A1PQ1PESSO8CMO             Ginger Christmas          Cool song  \n",
       "64702  A120RH58WVY4W6  Kelly Dunwell \"avid reader\"         Great Song  \n",
       "64703  A19VJ2IQLO50G0                      melinda         Five Stars  \n",
       "64704   AUDSM2CTLLW1Q           Patrick L. Randall  Well-crafted song  \n",
       "64705  A1GN8UJIZLCA59                     P Magnum     Souless Reggae  "
      ]
     },
     "execution_count": 5,
     "metadata": {},
     "output_type": "execute_result"
    }
   ],
   "source": [
    "music_rat_df.tail()"
   ]
  },
  {
   "cell_type": "code",
   "execution_count": null,
   "metadata": {
    "collapsed": true
   },
   "outputs": [],
   "source": [
    "#TRAIN TEST SPLIT"
   ]
  },
  {
   "cell_type": "code",
   "execution_count": null,
   "metadata": {
    "collapsed": true
   },
   "outputs": [],
   "source": [
    "train_data, test_data = train_test_split(us_rat_df, test_size = 0.25)"
   ]
  },
  {
   "cell_type": "code",
   "execution_count": 6,
   "metadata": {
    "collapsed": false
   },
   "outputs": [
    {
     "data": {
      "text/html": [
       "<div>\n",
       "<style scoped>\n",
       "    .dataframe tbody tr th:only-of-type {\n",
       "        vertical-align: middle;\n",
       "    }\n",
       "\n",
       "    .dataframe tbody tr th {\n",
       "        vertical-align: top;\n",
       "    }\n",
       "\n",
       "    .dataframe thead th {\n",
       "        text-align: right;\n",
       "    }\n",
       "</style>\n",
       "<table border=\"1\" class=\"dataframe\">\n",
       "  <thead>\n",
       "    <tr style=\"text-align: right;\">\n",
       "      <th>artist_id</th>\n",
       "      <th>5555991584</th>\n",
       "      <th>B0000000ZW</th>\n",
       "      <th>B00000016T</th>\n",
       "      <th>B00000016W</th>\n",
       "      <th>B00000017R</th>\n",
       "      <th>B0000001P4</th>\n",
       "      <th>B0000002HZ</th>\n",
       "      <th>B0000002J9</th>\n",
       "      <th>B0000002JR</th>\n",
       "      <th>B0000002ME</th>\n",
       "      <th>...</th>\n",
       "      <th>B00II5VHBU</th>\n",
       "      <th>B00IOVH8AW</th>\n",
       "      <th>B00IXZ9QP4</th>\n",
       "      <th>B00J80ED9M</th>\n",
       "      <th>B00JJCQRDE</th>\n",
       "      <th>B00JJOG5D4</th>\n",
       "      <th>B00JRBLSR2</th>\n",
       "      <th>B00JTHVWO8</th>\n",
       "      <th>B00JYKU6BK</th>\n",
       "      <th>B00KILDVEI</th>\n",
       "    </tr>\n",
       "    <tr>\n",
       "      <th>reviewer_id</th>\n",
       "      <th></th>\n",
       "      <th></th>\n",
       "      <th></th>\n",
       "      <th></th>\n",
       "      <th></th>\n",
       "      <th></th>\n",
       "      <th></th>\n",
       "      <th></th>\n",
       "      <th></th>\n",
       "      <th></th>\n",
       "      <th></th>\n",
       "      <th></th>\n",
       "      <th></th>\n",
       "      <th></th>\n",
       "      <th></th>\n",
       "      <th></th>\n",
       "      <th></th>\n",
       "      <th></th>\n",
       "      <th></th>\n",
       "      <th></th>\n",
       "      <th></th>\n",
       "    </tr>\n",
       "  </thead>\n",
       "  <tbody>\n",
       "    <tr>\n",
       "      <th>A08161909WK3HU7UYTMW</th>\n",
       "      <td>0.0</td>\n",
       "      <td>0.0</td>\n",
       "      <td>0.0</td>\n",
       "      <td>0.0</td>\n",
       "      <td>0.0</td>\n",
       "      <td>0.0</td>\n",
       "      <td>0.0</td>\n",
       "      <td>0.0</td>\n",
       "      <td>0.0</td>\n",
       "      <td>0.0</td>\n",
       "      <td>...</td>\n",
       "      <td>0.0</td>\n",
       "      <td>0.0</td>\n",
       "      <td>0.0</td>\n",
       "      <td>0.0</td>\n",
       "      <td>0.0</td>\n",
       "      <td>0.0</td>\n",
       "      <td>0.0</td>\n",
       "      <td>0.0</td>\n",
       "      <td>0.0</td>\n",
       "      <td>0.0</td>\n",
       "    </tr>\n",
       "    <tr>\n",
       "      <th>A1020L7BWW9RAX</th>\n",
       "      <td>0.0</td>\n",
       "      <td>0.0</td>\n",
       "      <td>0.0</td>\n",
       "      <td>0.0</td>\n",
       "      <td>0.0</td>\n",
       "      <td>0.0</td>\n",
       "      <td>0.0</td>\n",
       "      <td>0.0</td>\n",
       "      <td>0.0</td>\n",
       "      <td>0.0</td>\n",
       "      <td>...</td>\n",
       "      <td>0.0</td>\n",
       "      <td>0.0</td>\n",
       "      <td>0.0</td>\n",
       "      <td>0.0</td>\n",
       "      <td>0.0</td>\n",
       "      <td>0.0</td>\n",
       "      <td>0.0</td>\n",
       "      <td>0.0</td>\n",
       "      <td>0.0</td>\n",
       "      <td>0.0</td>\n",
       "    </tr>\n",
       "    <tr>\n",
       "      <th>A10323WWTFPSGP</th>\n",
       "      <td>0.0</td>\n",
       "      <td>0.0</td>\n",
       "      <td>0.0</td>\n",
       "      <td>0.0</td>\n",
       "      <td>0.0</td>\n",
       "      <td>0.0</td>\n",
       "      <td>0.0</td>\n",
       "      <td>0.0</td>\n",
       "      <td>0.0</td>\n",
       "      <td>0.0</td>\n",
       "      <td>...</td>\n",
       "      <td>0.0</td>\n",
       "      <td>0.0</td>\n",
       "      <td>0.0</td>\n",
       "      <td>0.0</td>\n",
       "      <td>0.0</td>\n",
       "      <td>0.0</td>\n",
       "      <td>0.0</td>\n",
       "      <td>0.0</td>\n",
       "      <td>0.0</td>\n",
       "      <td>0.0</td>\n",
       "    </tr>\n",
       "    <tr>\n",
       "      <th>A103KNDW8GN92L</th>\n",
       "      <td>0.0</td>\n",
       "      <td>0.0</td>\n",
       "      <td>0.0</td>\n",
       "      <td>0.0</td>\n",
       "      <td>0.0</td>\n",
       "      <td>0.0</td>\n",
       "      <td>0.0</td>\n",
       "      <td>0.0</td>\n",
       "      <td>0.0</td>\n",
       "      <td>0.0</td>\n",
       "      <td>...</td>\n",
       "      <td>0.0</td>\n",
       "      <td>0.0</td>\n",
       "      <td>0.0</td>\n",
       "      <td>0.0</td>\n",
       "      <td>0.0</td>\n",
       "      <td>0.0</td>\n",
       "      <td>0.0</td>\n",
       "      <td>0.0</td>\n",
       "      <td>0.0</td>\n",
       "      <td>0.0</td>\n",
       "    </tr>\n",
       "    <tr>\n",
       "      <th>A103W7ZPKGOCC9</th>\n",
       "      <td>0.0</td>\n",
       "      <td>0.0</td>\n",
       "      <td>0.0</td>\n",
       "      <td>0.0</td>\n",
       "      <td>0.0</td>\n",
       "      <td>0.0</td>\n",
       "      <td>0.0</td>\n",
       "      <td>0.0</td>\n",
       "      <td>0.0</td>\n",
       "      <td>0.0</td>\n",
       "      <td>...</td>\n",
       "      <td>0.0</td>\n",
       "      <td>0.0</td>\n",
       "      <td>0.0</td>\n",
       "      <td>0.0</td>\n",
       "      <td>0.0</td>\n",
       "      <td>0.0</td>\n",
       "      <td>0.0</td>\n",
       "      <td>0.0</td>\n",
       "      <td>0.0</td>\n",
       "      <td>0.0</td>\n",
       "    </tr>\n",
       "  </tbody>\n",
       "</table>\n",
       "<p>5 rows × 3568 columns</p>\n",
       "</div>"
      ],
      "text/plain": [
       "artist_id             5555991584  B0000000ZW  B00000016T  B00000016W  \\\n",
       "reviewer_id                                                            \n",
       "A08161909WK3HU7UYTMW         0.0         0.0         0.0         0.0   \n",
       "A1020L7BWW9RAX               0.0         0.0         0.0         0.0   \n",
       "A10323WWTFPSGP               0.0         0.0         0.0         0.0   \n",
       "A103KNDW8GN92L               0.0         0.0         0.0         0.0   \n",
       "A103W7ZPKGOCC9               0.0         0.0         0.0         0.0   \n",
       "\n",
       "artist_id             B00000017R  B0000001P4  B0000002HZ  B0000002J9  \\\n",
       "reviewer_id                                                            \n",
       "A08161909WK3HU7UYTMW         0.0         0.0         0.0         0.0   \n",
       "A1020L7BWW9RAX               0.0         0.0         0.0         0.0   \n",
       "A10323WWTFPSGP               0.0         0.0         0.0         0.0   \n",
       "A103KNDW8GN92L               0.0         0.0         0.0         0.0   \n",
       "A103W7ZPKGOCC9               0.0         0.0         0.0         0.0   \n",
       "\n",
       "artist_id             B0000002JR  B0000002ME     ...      B00II5VHBU  \\\n",
       "reviewer_id                                      ...                   \n",
       "A08161909WK3HU7UYTMW         0.0         0.0     ...             0.0   \n",
       "A1020L7BWW9RAX               0.0         0.0     ...             0.0   \n",
       "A10323WWTFPSGP               0.0         0.0     ...             0.0   \n",
       "A103KNDW8GN92L               0.0         0.0     ...             0.0   \n",
       "A103W7ZPKGOCC9               0.0         0.0     ...             0.0   \n",
       "\n",
       "artist_id             B00IOVH8AW  B00IXZ9QP4  B00J80ED9M  B00JJCQRDE  \\\n",
       "reviewer_id                                                            \n",
       "A08161909WK3HU7UYTMW         0.0         0.0         0.0         0.0   \n",
       "A1020L7BWW9RAX               0.0         0.0         0.0         0.0   \n",
       "A10323WWTFPSGP               0.0         0.0         0.0         0.0   \n",
       "A103KNDW8GN92L               0.0         0.0         0.0         0.0   \n",
       "A103W7ZPKGOCC9               0.0         0.0         0.0         0.0   \n",
       "\n",
       "artist_id             B00JJOG5D4  B00JRBLSR2  B00JTHVWO8  B00JYKU6BK  \\\n",
       "reviewer_id                                                            \n",
       "A08161909WK3HU7UYTMW         0.0         0.0         0.0         0.0   \n",
       "A1020L7BWW9RAX               0.0         0.0         0.0         0.0   \n",
       "A10323WWTFPSGP               0.0         0.0         0.0         0.0   \n",
       "A103KNDW8GN92L               0.0         0.0         0.0         0.0   \n",
       "A103W7ZPKGOCC9               0.0         0.0         0.0         0.0   \n",
       "\n",
       "artist_id             B00KILDVEI  \n",
       "reviewer_id                       \n",
       "A08161909WK3HU7UYTMW         0.0  \n",
       "A1020L7BWW9RAX               0.0  \n",
       "A10323WWTFPSGP               0.0  \n",
       "A103KNDW8GN92L               0.0  \n",
       "A103W7ZPKGOCC9               0.0  \n",
       "\n",
       "[5 rows x 3568 columns]"
      ]
     },
     "execution_count": 6,
     "metadata": {},
     "output_type": "execute_result"
    }
   ],
   "source": [
    "us_rat_df = music_rat_df.pivot(index = 'reviewer_id', columns ='artist_id', values = 'rating').fillna(0)\n",
    "us_rat_df.head()"
   ]
  },
  {
   "cell_type": "code",
   "execution_count": 7,
   "metadata": {
    "collapsed": false
   },
   "outputs": [
    {
     "name": "stdout",
     "output_type": "stream",
     "text": [
      "Number of reviewers: 5541\n",
      "Number of items rated: 3568\n"
     ]
    }
   ],
   "source": [
    "print (\"Number of reviewers: \"+ str(len(music_rat_df['reviewer_id'].unique())))\n",
    "print (\"Number of items rated: \" + str(len(music_rat_df['artist_id'].unique())))"
   ]
  },
  {
   "cell_type": "code",
   "execution_count": 8,
   "metadata": {
    "collapsed": false
   },
   "outputs": [],
   "source": [
    "n_unique_users = music_rat_df['reviewer_id'].nunique()\n",
    "n_unique_artists = music_rat_df['artist_id'].nunique()"
   ]
  },
  {
   "cell_type": "code",
   "execution_count": 9,
   "metadata": {
    "collapsed": false
   },
   "outputs": [
    {
     "name": "stdout",
     "output_type": "stream",
     "text": [
      "The sparsity level of dataset is 99.7%\n"
     ]
    }
   ],
   "source": [
    "#Calculate sparsity level of dataset matrix\n",
    "\n",
    "sparsity=round(1.0-len(music_rat_df)/float(n_unique_users*n_unique_artists),3)\n",
    "print('The sparsity level of dataset is ' +  str(sparsity*100) + '%')"
   ]
  },
  {
   "cell_type": "markdown",
   "metadata": {},
   "source": [
    "# Train Test Split"
   ]
  },
  {
   "cell_type": "code",
   "execution_count": 10,
   "metadata": {
    "collapsed": true
   },
   "outputs": [],
   "source": []
  },
  {
   "cell_type": "code",
   "execution_count": 11,
   "metadata": {
    "collapsed": false
   },
   "outputs": [],
   "source": [
    "#Create two user-item matrices, one for training and another for testing\n",
    "\n",
    "train_data_matrix = train_data.as_matrix()\n",
    "test_data_matrix = test_data.as_matrix()"
   ]
  },
  {
   "cell_type": "markdown",
   "metadata": {},
   "source": [
    "# Memory-Based Collaborative Filtering"
   ]
  },
  {
   "cell_type": "markdown",
   "metadata": {},
   "source": [
    "- <h4> First calculate similarity between users </h4>\n",
    "<p> For that purpose, we will use the following formula: \n",
    "<img class=\"aligncenter size-thumbnail img-responsive\" src=\"https://latex.codecogs.com/gif.latex?s_u^{cos}(u_k,u_a)=\\frac{u_k&space;\\cdot&space;u_a&space;}{&space;\\left&space;\\|&space;u_k&space;\\right&space;\\|&space;\\left&space;\\|&space;u_a&space;\\right&space;\\|&space;}&space;=\\frac{\\sum&space;x_{k,m}x_{a,m}}{\\sqrt{\\sum&space;x_{k,m}^2\\sum&space;x_{a,m}^2}}\"/>"
   ]
  },
  {
   "cell_type": "code",
   "execution_count": 12,
   "metadata": {
    "collapsed": false
   },
   "outputs": [],
   "source": [
    "#First calculate similarity between users|\n",
    "user_similarity = pairwise_distances(train_data_matrix, metric = 'cosine')"
   ]
  },
  {
   "cell_type": "markdown",
   "metadata": {},
   "source": [
    " - <h4> Then calculate similarity between artists </h4>\n",
    " <p> For that purpose, similar formula will be used:</p>\n",
    " \n",
    " <img class=\"aligncenter size-thumbnail img-responsive\" src=\"https://latex.codecogs.com/gif.latex?s_u^{cos}(i_m,i_b)=\\frac{i_m&space;\\cdot&space;i_b&space;}{&space;\\left&space;\\|&space;i_m&space;\\right&space;\\|&space;\\left&space;\\|&space;i_b&space;\\right&space;\\|&space;}&space;=\\frac{\\sum&space;x_{a,m}x_{a,b}}{\\sqrt{\\sum&space;x_{a,m}^2\\sum&space;x_{a,b}^2}}\n",
    "\"/>"
   ]
  },
  {
   "cell_type": "code",
   "execution_count": 13,
   "metadata": {
    "collapsed": false
   },
   "outputs": [],
   "source": [
    "#Next calculate similarity between artists\n",
    "artist_similarity = pairwise_distances(train_data_matrix.T, metric = 'cosine')"
   ]
  },
  {
   "cell_type": "code",
   "execution_count": 14,
   "metadata": {
    "collapsed": false
   },
   "outputs": [],
   "source": [
    "def predict_ratings (ratings, similarity, type = 'user'):\n",
    "    if type =='user':\n",
    "        mean_user_rating = ratings.mean(axis = 1)\n",
    "        #We use np.newaxis so that mean_user_rating has same format as ratings\n",
    "        ratings_diff = (ratings - mean_user_rating[:, np.newaxis])\n",
    "        prediction = mean_user_rating[:, np.newaxis] + similarity.dot(ratings_diff) / np.array([np.abs(similarity).sum(axis=1)]).T\n",
    "    elif type == 'artist':\n",
    "        prediction = ratings.dot(similarity) / np.array([np.abs(similarity).sum(axis=1)])     \n",
    "    return prediction"
   ]
  },
  {
   "cell_type": "code",
   "execution_count": 15,
   "metadata": {
    "collapsed": false
   },
   "outputs": [],
   "source": [
    "#Get predictions\n",
    "user_prediction = predict_ratings(train_data_matrix, user_similarity, type ='user')\n",
    "artist_prediction = predict_ratings(train_data_matrix, artist_similarity, type = 'artist')"
   ]
  },
  {
   "cell_type": "markdown",
   "metadata": {},
   "source": [
    "- <h4> Evaluate model performance using RMSE : </h4>\n",
    "<img src=\"https://latex.codecogs.com/gif.latex?RMSE&space;=\\sqrt{\\frac{1}{N}&space;\\sum&space;(x_i&space;-\\hat{x_i})^2}\" title=\"RMSE =\\sqrt{\\frac{1}{N} \\sum (x_i -\\hat{x_i})^2}\" />"
   ]
  },
  {
   "cell_type": "code",
   "execution_count": 34,
   "metadata": {
    "collapsed": false
   },
   "outputs": [
    {
     "data": {
      "text/plain": [
       "(47950,)"
      ]
     },
     "execution_count": 34,
     "metadata": {},
     "output_type": "execute_result"
    }
   ],
   "source": [
    "user_prediction[train_data_matrix.nonzero()].flatten().shape"
   ]
  },
  {
   "cell_type": "code",
   "execution_count": 16,
   "metadata": {
    "collapsed": true
   },
   "outputs": [],
   "source": [
    "def rmse(prediction, ground_truth):\n",
    "    prediction = prediction[ground_truth.nonzero()].flatten() \n",
    "    ground_truth = ground_truth[ground_truth.nonzero()].flatten()\n",
    "    return sqrt(mean_squared_error(prediction, ground_truth))"
   ]
  },
  {
   "cell_type": "code",
   "execution_count": 17,
   "metadata": {
    "collapsed": false
   },
   "outputs": [
    {
     "name": "stdout",
     "output_type": "stream",
     "text": [
      "User-based CF RMSE: 4.33826684957537\n",
      "Artist-based CF RMSE: 4.355662771256251\n"
     ]
    }
   ],
   "source": [
    "print('User-based CF RMSE: ' + str(rmse(user_prediction, test_data_matrix)))\n",
    "print('Artist-based CF RMSE: ' + str(rmse(artist_prediction, test_data_matrix)))"
   ]
  },
  {
   "cell_type": "markdown",
   "metadata": {},
   "source": [
    "- <h3> Check performance of the model by using given predictions for rating to get information about artists that the given user would like </h3>"
   ]
  },
  {
   "cell_type": "code",
   "execution_count": 18,
   "metadata": {
    "collapsed": false
   },
   "outputs": [],
   "source": [
    "#Return for the given user_id 10 most similar users\n",
    "#def most_similar_ten(user_id, user_similarity_matrix):\n",
    "def highest_rated_indices(user_id, user_prediction, us_rat_df):\n",
    "    index = 0\n",
    "    for i in range(0, us_rat_df.shape[0]-1):\n",
    "        if us_rat_df.index.values[i] == user_id:\n",
    "            index = i\n",
    "    \n",
    "    pred_arr = np.argsort(user_prediction[index][::-1])\n",
    "    pred_arr = pred_arr[0:10]\n",
    "    \n",
    "    return pred_arr    "
   ]
  },
  {
   "cell_type": "code",
   "execution_count": 19,
   "metadata": {
    "collapsed": false
   },
   "outputs": [
    {
     "data": {
      "text/plain": [
       "2343"
      ]
     },
     "execution_count": 19,
     "metadata": {},
     "output_type": "execute_result"
    }
   ],
   "source": [
    "hr = highest_rated_indices('A1020L7BWW9RAX', user_prediction, us_rat_df)\n",
    "hr[1]"
   ]
  },
  {
   "cell_type": "code",
   "execution_count": 20,
   "metadata": {
    "collapsed": false
   },
   "outputs": [
    {
     "data": {
      "text/plain": [
       "'B0002BK4IA'"
      ]
     },
     "execution_count": 20,
     "metadata": {},
     "output_type": "execute_result"
    }
   ],
   "source": [
    "us_rat_df.columns.values[hr[1]]"
   ]
  },
  {
   "cell_type": "code",
   "execution_count": 21,
   "metadata": {
    "collapsed": false
   },
   "outputs": [],
   "source": [
    "def get_artist_ids(us_rat_df, indices):\n",
    "    ids = []\n",
    "    \n",
    "    for i in range(0, indices.shape[0]-1):\n",
    "        ids.append(us_rat_df.columns.values[indices[i]])     \n",
    "    return ids"
   ]
  },
  {
   "cell_type": "code",
   "execution_count": 22,
   "metadata": {
    "collapsed": false
   },
   "outputs": [],
   "source": [
    "ai = get_artist_ids(us_rat_df, hr)   "
   ]
  },
  {
   "cell_type": "code",
   "execution_count": 23,
   "metadata": {
    "collapsed": true
   },
   "outputs": [],
   "source": [
    "def get_artists_description(artist_ids, music_df):\n",
    "    descriptions = []\n",
    "    \n",
    "    for i in range(0, len(artist_ids) - 1):\n",
    "        res_df = music_df.query(\"artist_id == '\" + artist_ids[i] + \"'\")\n",
    "        descriptions.append(res_df['summary'].tolist())\n",
    "    return descriptions"
   ]
  },
  {
   "cell_type": "code",
   "execution_count": 24,
   "metadata": {
    "collapsed": false
   },
   "outputs": [
    {
     "data": {
      "text/plain": [
       "[['Cool album!',\n",
       "  'Slowhand',\n",
       "  'This is why they call him &quot;Slowhand&quot;',\n",
       "  'The Core\" of the matter is worth owning 3.5 stars!',\n",
       "  \"Clapton's best work\",\n",
       "  'Overrated',\n",
       "  'An essential for any rock aficionado.',\n",
       "  'SLOW AND STEADY WINS THE RACE!',\n",
       "  'The definition of \"mediocre\"',\n",
       "  'Clapton Gets Commercial With Good Results!',\n",
       "  'All the tracks are amazing',\n",
       "  'Certainly Solid',\n",
       "  'Masterful Country Blues from Clapton',\n",
       "  'Wherein We See That 461 OB was no fluke, and that EC will endure',\n",
       "  'Slowhand at his best solo album',\n",
       "  'Slowly and wonderfully',\n",
       "  'One of my favorites',\n",
       "  \"Eric Clapton's 1977 Album Is Mostly Laid Back Material.\",\n",
       "  '\"Slowhand\" - A Signature Clapton Classic!!!',\n",
       "  'A PLEASURE',\n",
       "  'One of his finest',\n",
       "  'Wrongly Titled Bodge!',\n",
       "  'Clapton Is God!',\n",
       "  'Eric Clapton - Slowhand',\n",
       "  'NOT five',\n",
       "  'Strong Hand',\n",
       "  'This Timeless Masterpiece Just Got Bigger And Better!',\n",
       "  '2nd favorite from Eric Clapton.',\n",
       "  \"Late '70s Country-Rock Classic\",\n",
       "  'Great Eric Clapton Solo Album'],\n",
       " ['Drink a red bull yeah',\n",
       "  'The Futureheads induce the scratching heads',\n",
       "  'Not Exactly The Second Coming...',\n",
       "  'Impossible to resist (4.5 Stars)',\n",
       "  'Good post-punk, but far from classic - genre fans will be satisfied',\n",
       "  'Joyful and energetic, this is POP!',\n",
       "  'Future stars hopefully',\n",
       "  'Short & Hyper',\n",
       "  'I-have-no-mind',\n",
       "  'Charming debut: Jam meets XTC via Gang of Four on steroids!',\n",
       "  \"I Like It When You're Stupid And Shallow.\",\n",
       "  'Every Bit of It,  Intensifying Music',\n",
       "  'This album is addictive.',\n",
       "  \"Don't hear much of a future for FUTUREHEADS\",\n",
       "  'The Future Looks Bright',\n",
       "  'Replace the drummer',\n",
       "  'REALLY SHOULD BE FOUR AND A HALF',\n",
       "  'Perfect Punk'],\n",
       " ['Pretty good album and waaaay better than Binaural',\n",
       "  'They still got it!',\n",
       "  'Good but not a knock out',\n",
       "  'good album, enough said',\n",
       "  \"Pearl Jam's most Buddhist album\",\n",
       "  'Arguably their best..',\n",
       "  \"I'm gonna save you\",\n",
       "  'different but not better',\n",
       "  \"There's a song on here called Love Boat Captain\",\n",
       "  'Start A RIOT',\n",
       "  'Occasional Excellence, but Hardly Their Best',\n",
       "  'Get This CD PJ is not Dead',\n",
       "  'Pearl Jam - Riot Act',\n",
       "  'Terrific return to form',\n",
       "  'Too Political and Too  changed',\n",
       "  'Hello?  The early 90s called, it wants its grunge back!!',\n",
       "  'Terrible.  One of the worst albums I have ever heard.',\n",
       "  'Reason to Riot',\n",
       "  'Still in Their Own Little World',\n",
       "  'The dry spell comes to an abrupt end',\n",
       "  'SOME OK SONGS, but.......',\n",
       "  'One of the Good Ones',\n",
       "  'Awesome, again.',\n",
       "  'I feel Lost',\n",
       "  '4.5 Stars - Arty and experimental; another great Pearl Jam album',\n",
       "  'A lifeless riot',\n",
       "  'A High Quality Record',\n",
       "  'Great New Pearl Jam Album',\n",
       "  'Nocodeyieldbinauralriotact',\n",
       "  'Riot Act',\n",
       "  'Riot Act: Their best since Vitalogy',\n",
       "  'Just Another Pearl',\n",
       "  'Riot Act',\n",
       "  'Alternative continued.',\n",
       "  'The album Pearl Jam was meant to make.',\n",
       "  'Best Pearl Jam since Vs...',\n",
       "  'Staying on a right track',\n",
       "  'Pearl Jam walks the long road (4 1/2 stars)',\n",
       "  'Throw in the Towel already',\n",
       "  'Riot Act is beautiful',\n",
       "  'Rioteousness Fare; Get your PJ on',\n",
       "  'PEARL JAM DO IT AGAIN',\n",
       "  'Excellent Album',\n",
       "  'Not the best PJ album but still passable',\n",
       "  'Flat act',\n",
       "  'An improvement, but...',\n",
       "  'Im glad I gave it a chance.',\n",
       "  'vasely underrated',\n",
       "  'Pearl Jam - still evolving, still going strong',\n",
       "  'SOME GOOD SONGS...',\n",
       "  'Something to Riot About!',\n",
       "  'A great album from PJ',\n",
       "  'Blew me away.',\n",
       "  'A myriad of colors within a beautiful painting',\n",
       "  '3 1/2',\n",
       "  'Grunge is coming back!',\n",
       "  'In-your-face while still melodic',\n",
       "  'Someone Stole This Cd',\n",
       "  'Their Best.'],\n",
       " [\"there's better short dog out there\",\n",
       "  'Born to mack! 80s classic rap!',\n",
       "  '5 Star',\n",
       "  \"Kickin' it old school, Yay Area style\",\n",
       "  'Too Short- Born To Mack Classic',\n",
       "  \"short's #1\",\n",
       "  '4.5 stars from $hort Dog',\n",
       "  'Another Early Classic',\n",
       "  'The beginning!!!',\n",
       "  'Old School All the Way'],\n",
       " ['How Does It Feel To Be Toto?',\n",
       "  'Surprisingly rocking follow up to the epic Toto IV',\n",
       "  'My Favourite Album',\n",
       "  \"TOTO's Reinvention\",\n",
       "  'boring harder rocking album',\n",
       "  'Definitely Worth Another Listen!',\n",
       "  'Second only to VII in the TOTO discography',\n",
       "  'This one made me a hardcore Toto fan.',\n",
       "  'A Great Disappointment',\n",
       "  'Excellent Album',\n",
       "  'Toto - \"Isolation\"',\n",
       "  'This One Really Rocks',\n",
       "  'Power!!',\n",
       "  'Emanates a lot of energy.',\n",
       "  \"80's Unattended Treasure\"],\n",
       " ['The Beginning Of An Era',\n",
       "  'A decent sophomore effort (3.5 Stars)',\n",
       "  'mota rica!',\n",
       "  'Can I Get A Hit From The Bong? (Rating: 8 out of 10- -4 stars)',\n",
       "  '\"Cypress Hill\" Part 2',\n",
       "  'ages like wine',\n",
       "  'A TRUE CLASSIC.',\n",
       "  'A good but  not great',\n",
       "  \"Smokin'!\",\n",
       "  \"CYPRESS HILL ARE BOMB ASS LOCC'S\",\n",
       "  'A Pretty Good Rap!',\n",
       "  'bananas..',\n",
       "  'The Masterpiece...',\n",
       "  'DAMN',\n",
       "  'Inhale, Exhale....',\n",
       "  'Cazy Insane, Got No Brain!',\n",
       "  'West Coast Classic',\n",
       "  'A good mid 90s album with some tight tracks',\n",
       "  \"There's Nothing Like This in the Rap Game Anymore...\",\n",
       "  'Average',\n",
       "  'For Weed head onlys',\n",
       "  'The album that got me into rap',\n",
       "  'Superb Hill Album',\n",
       "  'Throw back to my early teens',\n",
       "  'crazy',\n",
       "  'One of their best.'],\n",
       " [\"WHIPPED CREAM'S secret revealed!\",\n",
       "  'excellent',\n",
       "  'Terrific food-themed effort from Herb Alpert and the TJB',\n",
       "  'Whipped Cream',\n",
       "  'Whipped Cream and Other Delights',\n",
       "  'The album that made Herb Alpert a superstar!',\n",
       "  'A feast for the ears..and eyes.',\n",
       "  'Nostalgic Yet Quite Yummy Indeed',\n",
       "  'Classic Cover and Music',\n",
       "  'The most popular of all \"Tijuana\" albums!',\n",
       "  'A Taste of honey....INDEED!',\n",
       "  'Still Great after 40 Years',\n",
       "  'Another classic album by Herb Alpert and The TJB',\n",
       "  'The Soundtrack of A Life',\n",
       "  'GREAT ALBUM COVER, GREAT MUSIC',\n",
       "  'Car CDs of My LPs',\n",
       "  'Good Music',\n",
       "  \"One of the top albums of the 60's era\",\n",
       "  'A TJB CLASSIC!',\n",
       "  'A blast from my past that is still in my play list',\n",
       "  'PASS THE TEQUILA! AND LISTEN TO THE BRASS! ONE OF MY FAVORITES',\n",
       "  'Timeless classic',\n",
       "  \"Ignoring Dad's advice\",\n",
       "  \"+ 1/2 stars...40 Years Later 'Whipped Cream' Still a Delight\"],\n",
       " ['Another Critic Darling Novelty',\n",
       "  \"it's grown on me\",\n",
       "  \"Origanel Pirate Material, You're Listening To The Streets\",\n",
       "  'Classic',\n",
       "  \"Yes, he's British.  Yes, it works.\",\n",
       "  'Addicting and original',\n",
       "  'Entertainment at its finest',\n",
       "  'Still waiting for this one to grab me.',\n",
       "  'an intriguing take on a worn-out genre',\n",
       "  'drunk as makes sense in the morning',\n",
       "  'Good beats but off beat...makes it interesting though',\n",
       "  'A pleasant surprise',\n",
       "  'British Urban Social Commentary produces outstanding album..',\n",
       "  'Original pirate material?  Original indeed.',\n",
       "  'Blew Me Away!!!!!!!',\n",
       "  'A very unique album',\n",
       "  \"Extra Extra, Street's Album provides hope for rap's future!\",\n",
       "  'The lyrics make this album what it is:',\n",
       "  \"You're listening to the Streets\",\n",
       "  'spokesperson for a generation?',\n",
       "  \"Wicked; bleedin' awesome; quite quaint\",\n",
       "  'the truth...................................',\n",
       "  'For Geezers who need excitement!',\n",
       "  'Is it rap?  Spoken Word?  Who cares; it WINS',\n",
       "  \"Ever feel like you've been cheated?\",\n",
       "  'Not all Rap is Hip Hop',\n",
       "  'what a Geezer']]"
      ]
     },
     "execution_count": 24,
     "metadata": {},
     "output_type": "execute_result"
    }
   ],
   "source": [
    "get_artists_description(ai, music_rat_df)"
   ]
  },
  {
   "cell_type": "markdown",
   "metadata": {},
   "source": [
    "# Model-Based Collaborative filtering\n",
    "  - <b>SVD</b> (Singular Value Decomposition)"
   ]
  },
  {
   "cell_type": "code",
   "execution_count": 80,
   "metadata": {
    "collapsed": false
   },
   "outputs": [
    {
     "name": "stdout",
     "output_type": "stream",
     "text": [
      "User-based CF MSE: 4.332039981419453\n"
     ]
    }
   ],
   "source": [
    "#get SVD components from train matrix. Choose k.\n",
    "u, s, vt = svds(train_data_matrix, k = 15)\n",
    "s_diag_matrix=np.diag(s)\n",
    "predictions = np.dot(np.dot(u, s_diag_matrix), vt)\n",
    "print('User-based CF MSE: ' + str(rmse(predictions, test_data_matrix)))"
   ]
  },
  {
   "cell_type": "code",
   "execution_count": 83,
   "metadata": {
    "collapsed": true
   },
   "outputs": [],
   "source": [
    "hr_svd = highest_rated_indices('A1020L7BWW9RAX', predictions, us_rat_df)"
   ]
  },
  {
   "cell_type": "code",
   "execution_count": 84,
   "metadata": {
    "collapsed": true
   },
   "outputs": [],
   "source": [
    "ai_svd = get_artist_ids(us_rat_df, hr_svd)   "
   ]
  },
  {
   "cell_type": "code",
   "execution_count": 85,
   "metadata": {
    "collapsed": false
   },
   "outputs": [
    {
     "data": {
      "text/plain": [
       "[[\"Eurythmics Doin' It For Themselves\",\n",
       "  'FIVE STARS YES!',\n",
       "  'Good album but not their best one',\n",
       "  'Eurythmics: Be Yourself Tonight (1985)',\n",
       "  \"Best Pop Album of the 80's?\",\n",
       "  'The Eurythmics At Their Peak? R&B and New Wave Pop Collide',\n",
       "  'Their Most Cohesive',\n",
       "  'Lots of soul',\n",
       "  \"I'm Thrown And Overblown With Bliss.\",\n",
       "  'mixed emotions',\n",
       "  'A Landmark Album----The Eurythmics Best',\n",
       "  \"Eurythmics' best album\",\n",
       "  'Awesome and moving',\n",
       "  'Great Album!',\n",
       "  'Eurythmics \"rock out\" ... so to speak',\n",
       "  'you may not know the album, but you know the songs',\n",
       "  'Eurythmics cut loose',\n",
       "  'Soulful Annie and Dave'],\n",
       " [\"I can't believe I didn't own this sooner\",\n",
       "  'Great East Coast',\n",
       "  'raw genius',\n",
       "  'Uni-Bombs',\n",
       "  'Just a couple of kids from Queens',\n",
       "  'Untochable',\n",
       "  'Real Rap',\n",
       "  'Unparalleled Classic',\n",
       "  'Mobb Deep at their best!!!',\n",
       "  'The Infamous',\n",
       "  'The Mobb',\n",
       "  'Another \"oldschool\" classic - rap fans will LOVE it!',\n",
       "  'The Best Mobb Deep Album [5 stars]',\n",
       "  'There Famous 2nd Best Ever',\n",
       "  'Classic.',\n",
       "  'A grimy New York masterpiece',\n",
       "  'Infamous',\n",
       "  'hardcore to the next level',\n",
       "  'A Top 10 CD...No doubt',\n",
       "  'Mobb Deep- The Infamous',\n",
       "  'Street music...',\n",
       "  'Aint No Such Things as Halfway crooks',\n",
       "  'My GODDD!!',\n",
       "  'Another QB Classic. When does it stop????',\n",
       "  'Classic major label Debut',\n",
       "  '\"Put us together; it\\'s like mixing vodka and milk\"',\n",
       "  'Its the Infamous back in the house once again!',\n",
       "  'CLASSIC',\n",
       "  'Story-Telling on a New Level',\n",
       "  'What got things started for Mobb Deep',\n",
       "  'RaW',\n",
       "  'True Gangsta Rap',\n",
       "  'Classic',\n",
       "  'Infamous Mobb',\n",
       "  'possibly the most sadistic hip-hop album',\n",
       "  'Mobb Deep drop their 2nd LP.',\n",
       "  'Queensbridge classic',\n",
       "  'CLASSIC.',\n",
       "  'Just buy this cd already',\n",
       "  'Cradle to the Grave',\n",
       "  'The beginning of a legacy',\n",
       "  'The rawest and most lyrical album of all time, NON compare!!',\n",
       "  '95 CIRCA',\n",
       "  'Thug classic',\n",
       "  'ace',\n",
       "  'East coast realness',\n",
       "  'a true underground album',\n",
       "  'Infamous Classic',\n",
       "  'This is a gangsta classic',\n",
       "  'Few Cds are better than this',\n",
       "  'Classic from Queensbridge',\n",
       "  'Some more dope material, the way hip hop should be',\n",
       "  'A Classic',\n",
       "  'Sick Gangsta Rap',\n",
       "  \"One of QB'z Finest\",\n",
       "  'THE GREATEST GROUP OF ALL TIME',\n",
       "  \"Poor man's version of Illmatic.................\",\n",
       "  'GANGSTA RAP CLASSIC!!!!!!!!!!!!!!!!!!!!!!!!!!!!!!!!!!',\n",
       "  'Classic Mobb Deep Album!!!!',\n",
       "  'Landmark hardcore album',\n",
       "  'Dark, grimy tales from the slums of New York City',\n",
       "  \"HIP HOP'S DARKEST MASTERPIECE...\",\n",
       "  'Great Album !',\n",
       "  'The best Mobb Deep album EVER',\n",
       "  'Mobb Deep - Infamous',\n",
       "  'Love Mobb Deep'],\n",
       " ['The Final Conflict',\n",
       "  \"That's how we do it in th CHi\",\n",
       "  'NOT BETTER THAN THE 2nd !',\n",
       "  'no clones',\n",
       "  'Good',\n",
       "  'Chi-town represent',\n",
       "  'midwst Clazik!',\n",
       "  'Nation City Reppin On This',\n",
       "  'Original Concept Gone to Waste...'],\n",
       " [\"Grown & Sexy R&B At It's Finest\",\n",
       "  'For grown folks only!',\n",
       "  'One of the great forgotten soul crooners',\n",
       "  'Kool keith',\n",
       "  'Gives Luther Vandross a run for his money.',\n",
       "  'Now this brings back memories......',\n",
       "  'Amazing cd -Beautiful voice :-o)',\n",
       "  'Keith Washington: Make time for love!',\n",
       "  'I still remember this album!  Glorious, smooth R&B debut!'],\n",
       " ['Good for a beginner',\n",
       "  \"Can't Argue With The Music, But Buy The Albums\",\n",
       "  'Totally Cool',\n",
       "  '28 of their best.',\n",
       "  'great Rush collection for the casual fan',\n",
       "  'Excellent starter set for new and old fans alike',\n",
       "  'Chronicles is the Rush CD for Non-Rush Fans...',\n",
       "  'An Awesome &quot;Greatest Hits&quot; Album From The #1 Band',\n",
       "  '5 stars for the music, 4 stars for the compilation',\n",
       "  'Nice package for the non-fanatic',\n",
       "  \"The Definitive Rush Collection from the '70's and '80's!\",\n",
       "  'A good overview, with minor problems',\n",
       "  'I am very conflicted about this best of set...',\n",
       "  'Good Collection of Rush Classics'],\n",
       " ['Great music great recording.',\n",
       "  'I Forgot How Good They Were!',\n",
       "  'All The Cars Most People Will Ever Need',\n",
       "  'Just what I needed',\n",
       "  'Great sounding collection',\n",
       "  'A more hit-efficient collection of the Cars',\n",
       "  'JUST WHAT I NEEDED',\n",
       "  'Five Stars',\n",
       "  'Just What I Needed (and Wanted)',\n",
       "  'the spirit of the Cars lives',\n",
       "  'Recycled',\n",
       "  'By Far, the Best Compilation of the Band there Is!',\n",
       "  'Hits And Misses',\n",
       "  'Updates and betters the 1985 Greatest Hits',\n",
       "  'Will The REAL Greatest Hits Please Stand Up',\n",
       "  '&quot;Just What I Needed&quot;.',\n",
       "  'Not really 100% complete, but good anyway',\n",
       "  'these cars are fantastic',\n",
       "  'On Another Note...',\n",
       "  'Fantastic retrospective',\n",
       "  'An accurate document of the rise and fall of the Cars',\n",
       "  'Drive',\n",
       "  'Another album found',\n",
       "  'Sit Down And Enjoy A Nice Ride',\n",
       "  'Fantastic collection from an amazing band',\n",
       "  'FFO? (For Fans Only)',\n",
       "  'WHERE THE RUBBER MEETS THE ROAD',\n",
       "  'Cruising with the Cars',\n",
       "  'Essential 80s Music',\n",
       "  'ALL THEIR HITS ARE HERE',\n",
       "  'the Cars are the best',\n",
       "  'Very Good',\n",
       "  'Great reminder',\n",
       "  'A Nice Compilation',\n",
       "  'Tuneful rock hits',\n",
       "  'Roll With The Cars',\n",
       "  'a brilliant compilation',\n",
       "  \"Great compilation, but don't stop here!\",\n",
       "  'good times roll',\n",
       "  'The Cars is a timeless band...',\n",
       "  'Not Really Necessary, But Still Good',\n",
       "  'The Cars',\n",
       "  'Excellent Collection',\n",
       "  'Complete?  Not quite, but close enough',\n",
       "  'High Octane',\n",
       "  'Perfect Hits Collection',\n",
       "  'in the basement',\n",
       "  'GOOD TUNES',\n",
       "  'WHere is \"Heartbeat City\"'],\n",
       " ['Not Even Ready',\n",
       "  'Nice track',\n",
       "  'Is that Brittany Spears younger Sister??',\n",
       "  'how dare she rudely sample The Fugees!!!',\n",
       "  'Ready For Life'],\n",
       " ['Voice of the Cars!',\n",
       "  'An enjoyable, catchy album',\n",
       "  \"The late Benjamin Orr's only solo.\",\n",
       "  'Benjamin Orzechowski in the Spotlight',\n",
       "  'Great solo release!']]"
      ]
     },
     "execution_count": 85,
     "metadata": {},
     "output_type": "execute_result"
    }
   ],
   "source": [
    "get_artists_description(ai_svd, music_rat_df)"
   ]
  },
  {
   "cell_type": "code",
   "execution_count": null,
   "metadata": {
    "collapsed": true
   },
   "outputs": [],
   "source": []
  }
 ],
 "metadata": {
  "anaconda-cloud": {},
  "kernelspec": {
   "display_name": "Python [default]",
   "language": "python",
   "name": "python3"
  },
  "language_info": {
   "codemirror_mode": {
    "name": "ipython",
    "version": 3
   },
   "file_extension": ".py",
   "mimetype": "text/x-python",
   "name": "python",
   "nbconvert_exporter": "python",
   "pygments_lexer": "ipython3",
   "version": "3.5.2"
  }
 },
 "nbformat": 4,
 "nbformat_minor": 2
}
