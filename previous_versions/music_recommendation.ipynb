{
 "cells": [
  {
   "cell_type": "code",
   "execution_count": 3,
   "metadata": {
    "collapsed": false
   },
   "outputs": [],
   "source": [
    "import numpy as np\n",
    "import pandas as pd\n",
    "import scipy.sparse as sp\n",
    "from scipy.sparse.linalg import svds\n",
    "from sklearn.metrics.pairwise import pairwise_distances\n",
    "from sklearn.cross_validation import train_test_split\n",
    "from sklearn.metrics import mean_squared_error\n",
    "from math import sqrt\n",
    "import time\n",
    "import matplotlib.pyplot as plt\n",
    "\n",
    "import warnings; warnings.simplefilter('ignore')"
   ]
  },
  {
   "cell_type": "code",
   "execution_count": 8,
   "metadata": {
    "collapsed": false
   },
   "outputs": [],
   "source": [
    "music_rat_df = pd.read_json(\"Digital_Music_5.json\", lines = True)\n",
    "#meta_df = pd.read_json(\"meta_Digital_Music.json\", lines = True)"
   ]
  },
  {
   "cell_type": "code",
   "execution_count": 10,
   "metadata": {
    "collapsed": false
   },
   "outputs": [],
   "source": [
    "music_rat_df = music_rat_df[['asin', 'overall', 'reviewText', 'reviewerID', 'reviewerName', 'summary']]"
   ]
  },
  {
   "cell_type": "code",
   "execution_count": 11,
   "metadata": {
    "collapsed": false
   },
   "outputs": [],
   "source": [
    "music_rat_df.rename(columns = {'asin':'artist_id', 'overall':'rating', 'reviewerID':'reviewer_id', 'reviewerName':'reviewer_name', 'reviewText':'review_text'}, inplace = True)"
   ]
  },
  {
   "cell_type": "code",
   "execution_count": 13,
   "metadata": {
    "collapsed": false
   },
   "outputs": [
    {
     "data": {
      "text/html": [
       "<div>\n",
       "<style scoped>\n",
       "    .dataframe tbody tr th:only-of-type {\n",
       "        vertical-align: middle;\n",
       "    }\n",
       "\n",
       "    .dataframe tbody tr th {\n",
       "        vertical-align: top;\n",
       "    }\n",
       "\n",
       "    .dataframe thead th {\n",
       "        text-align: right;\n",
       "    }\n",
       "</style>\n",
       "<table border=\"1\" class=\"dataframe\">\n",
       "  <thead>\n",
       "    <tr style=\"text-align: right;\">\n",
       "      <th></th>\n",
       "      <th>artist_id</th>\n",
       "      <th>rating</th>\n",
       "      <th>review_text</th>\n",
       "      <th>reviewer_id</th>\n",
       "      <th>reviewer_name</th>\n",
       "      <th>summary</th>\n",
       "    </tr>\n",
       "  </thead>\n",
       "  <tbody>\n",
       "    <tr>\n",
       "      <th>0</th>\n",
       "      <td>5555991584</td>\n",
       "      <td>5</td>\n",
       "      <td>It's hard to believe \"Memory of Trees\" came ou...</td>\n",
       "      <td>A3EBHHCZO6V2A4</td>\n",
       "      <td>Amaranth \"music fan\"</td>\n",
       "      <td>Enya's last great album</td>\n",
       "    </tr>\n",
       "    <tr>\n",
       "      <th>1</th>\n",
       "      <td>5555991584</td>\n",
       "      <td>5</td>\n",
       "      <td>A clasically-styled and introverted album, Mem...</td>\n",
       "      <td>AZPWAXJG9OJXV</td>\n",
       "      <td>bethtexas</td>\n",
       "      <td>Enya at her most elegant</td>\n",
       "    </tr>\n",
       "    <tr>\n",
       "      <th>2</th>\n",
       "      <td>5555991584</td>\n",
       "      <td>5</td>\n",
       "      <td>I never thought Enya would reach the sublime h...</td>\n",
       "      <td>A38IRL0X2T4DPF</td>\n",
       "      <td>bob turnley</td>\n",
       "      <td>The best so far</td>\n",
       "    </tr>\n",
       "    <tr>\n",
       "      <th>3</th>\n",
       "      <td>5555991584</td>\n",
       "      <td>5</td>\n",
       "      <td>This is the third review of an irish album I w...</td>\n",
       "      <td>A22IK3I6U76GX0</td>\n",
       "      <td>Calle</td>\n",
       "      <td>Ireland produces good music.</td>\n",
       "    </tr>\n",
       "    <tr>\n",
       "      <th>4</th>\n",
       "      <td>5555991584</td>\n",
       "      <td>4</td>\n",
       "      <td>Enya, despite being a successful recording art...</td>\n",
       "      <td>A1AISPOIIHTHXX</td>\n",
       "      <td>Cloud \"...\"</td>\n",
       "      <td>4.5; music to dream to</td>\n",
       "    </tr>\n",
       "  </tbody>\n",
       "</table>\n",
       "</div>"
      ],
      "text/plain": [
       "    artist_id  rating                                        review_text  \\\n",
       "0  5555991584       5  It's hard to believe \"Memory of Trees\" came ou...   \n",
       "1  5555991584       5  A clasically-styled and introverted album, Mem...   \n",
       "2  5555991584       5  I never thought Enya would reach the sublime h...   \n",
       "3  5555991584       5  This is the third review of an irish album I w...   \n",
       "4  5555991584       4  Enya, despite being a successful recording art...   \n",
       "\n",
       "      reviewer_id         reviewer_name                       summary  \n",
       "0  A3EBHHCZO6V2A4  Amaranth \"music fan\"       Enya's last great album  \n",
       "1   AZPWAXJG9OJXV             bethtexas      Enya at her most elegant  \n",
       "2  A38IRL0X2T4DPF           bob turnley               The best so far  \n",
       "3  A22IK3I6U76GX0                 Calle  Ireland produces good music.  \n",
       "4  A1AISPOIIHTHXX           Cloud \"...\"        4.5; music to dream to  "
      ]
     },
     "execution_count": 13,
     "metadata": {},
     "output_type": "execute_result"
    }
   ],
   "source": [
    "music_rat_df.head()"
   ]
  },
  {
   "cell_type": "code",
   "execution_count": 15,
   "metadata": {
    "collapsed": false
   },
   "outputs": [
    {
     "data": {
      "text/html": [
       "<div>\n",
       "<style scoped>\n",
       "    .dataframe tbody tr th:only-of-type {\n",
       "        vertical-align: middle;\n",
       "    }\n",
       "\n",
       "    .dataframe tbody tr th {\n",
       "        vertical-align: top;\n",
       "    }\n",
       "\n",
       "    .dataframe thead th {\n",
       "        text-align: right;\n",
       "    }\n",
       "</style>\n",
       "<table border=\"1\" class=\"dataframe\">\n",
       "  <thead>\n",
       "    <tr style=\"text-align: right;\">\n",
       "      <th>artist_id</th>\n",
       "      <th>5555991584</th>\n",
       "      <th>B0000000ZW</th>\n",
       "      <th>B00000016T</th>\n",
       "      <th>B00000016W</th>\n",
       "      <th>B00000017R</th>\n",
       "      <th>B0000001P4</th>\n",
       "      <th>B0000002HZ</th>\n",
       "      <th>B0000002J9</th>\n",
       "      <th>B0000002JR</th>\n",
       "      <th>B0000002ME</th>\n",
       "      <th>...</th>\n",
       "      <th>B00II5VHBU</th>\n",
       "      <th>B00IOVH8AW</th>\n",
       "      <th>B00IXZ9QP4</th>\n",
       "      <th>B00J80ED9M</th>\n",
       "      <th>B00JJCQRDE</th>\n",
       "      <th>B00JJOG5D4</th>\n",
       "      <th>B00JRBLSR2</th>\n",
       "      <th>B00JTHVWO8</th>\n",
       "      <th>B00JYKU6BK</th>\n",
       "      <th>B00KILDVEI</th>\n",
       "    </tr>\n",
       "    <tr>\n",
       "      <th>reviewer_id</th>\n",
       "      <th></th>\n",
       "      <th></th>\n",
       "      <th></th>\n",
       "      <th></th>\n",
       "      <th></th>\n",
       "      <th></th>\n",
       "      <th></th>\n",
       "      <th></th>\n",
       "      <th></th>\n",
       "      <th></th>\n",
       "      <th></th>\n",
       "      <th></th>\n",
       "      <th></th>\n",
       "      <th></th>\n",
       "      <th></th>\n",
       "      <th></th>\n",
       "      <th></th>\n",
       "      <th></th>\n",
       "      <th></th>\n",
       "      <th></th>\n",
       "      <th></th>\n",
       "    </tr>\n",
       "  </thead>\n",
       "  <tbody>\n",
       "    <tr>\n",
       "      <th>A08161909WK3HU7UYTMW</th>\n",
       "      <td>0.0</td>\n",
       "      <td>0.0</td>\n",
       "      <td>0.0</td>\n",
       "      <td>0.0</td>\n",
       "      <td>0.0</td>\n",
       "      <td>0.0</td>\n",
       "      <td>0.0</td>\n",
       "      <td>0.0</td>\n",
       "      <td>0.0</td>\n",
       "      <td>0.0</td>\n",
       "      <td>...</td>\n",
       "      <td>0.0</td>\n",
       "      <td>0.0</td>\n",
       "      <td>0.0</td>\n",
       "      <td>0.0</td>\n",
       "      <td>0.0</td>\n",
       "      <td>0.0</td>\n",
       "      <td>0.0</td>\n",
       "      <td>0.0</td>\n",
       "      <td>0.0</td>\n",
       "      <td>0.0</td>\n",
       "    </tr>\n",
       "    <tr>\n",
       "      <th>A1020L7BWW9RAX</th>\n",
       "      <td>0.0</td>\n",
       "      <td>0.0</td>\n",
       "      <td>0.0</td>\n",
       "      <td>0.0</td>\n",
       "      <td>0.0</td>\n",
       "      <td>0.0</td>\n",
       "      <td>0.0</td>\n",
       "      <td>0.0</td>\n",
       "      <td>0.0</td>\n",
       "      <td>0.0</td>\n",
       "      <td>...</td>\n",
       "      <td>0.0</td>\n",
       "      <td>0.0</td>\n",
       "      <td>0.0</td>\n",
       "      <td>0.0</td>\n",
       "      <td>0.0</td>\n",
       "      <td>0.0</td>\n",
       "      <td>0.0</td>\n",
       "      <td>0.0</td>\n",
       "      <td>0.0</td>\n",
       "      <td>0.0</td>\n",
       "    </tr>\n",
       "    <tr>\n",
       "      <th>A10323WWTFPSGP</th>\n",
       "      <td>0.0</td>\n",
       "      <td>0.0</td>\n",
       "      <td>0.0</td>\n",
       "      <td>0.0</td>\n",
       "      <td>0.0</td>\n",
       "      <td>0.0</td>\n",
       "      <td>0.0</td>\n",
       "      <td>0.0</td>\n",
       "      <td>0.0</td>\n",
       "      <td>0.0</td>\n",
       "      <td>...</td>\n",
       "      <td>0.0</td>\n",
       "      <td>0.0</td>\n",
       "      <td>0.0</td>\n",
       "      <td>0.0</td>\n",
       "      <td>0.0</td>\n",
       "      <td>0.0</td>\n",
       "      <td>0.0</td>\n",
       "      <td>0.0</td>\n",
       "      <td>0.0</td>\n",
       "      <td>0.0</td>\n",
       "    </tr>\n",
       "    <tr>\n",
       "      <th>A103KNDW8GN92L</th>\n",
       "      <td>0.0</td>\n",
       "      <td>0.0</td>\n",
       "      <td>0.0</td>\n",
       "      <td>0.0</td>\n",
       "      <td>0.0</td>\n",
       "      <td>0.0</td>\n",
       "      <td>0.0</td>\n",
       "      <td>0.0</td>\n",
       "      <td>0.0</td>\n",
       "      <td>0.0</td>\n",
       "      <td>...</td>\n",
       "      <td>0.0</td>\n",
       "      <td>0.0</td>\n",
       "      <td>0.0</td>\n",
       "      <td>0.0</td>\n",
       "      <td>0.0</td>\n",
       "      <td>0.0</td>\n",
       "      <td>0.0</td>\n",
       "      <td>0.0</td>\n",
       "      <td>0.0</td>\n",
       "      <td>0.0</td>\n",
       "    </tr>\n",
       "    <tr>\n",
       "      <th>A103W7ZPKGOCC9</th>\n",
       "      <td>0.0</td>\n",
       "      <td>0.0</td>\n",
       "      <td>0.0</td>\n",
       "      <td>0.0</td>\n",
       "      <td>0.0</td>\n",
       "      <td>0.0</td>\n",
       "      <td>0.0</td>\n",
       "      <td>0.0</td>\n",
       "      <td>0.0</td>\n",
       "      <td>0.0</td>\n",
       "      <td>...</td>\n",
       "      <td>0.0</td>\n",
       "      <td>0.0</td>\n",
       "      <td>0.0</td>\n",
       "      <td>0.0</td>\n",
       "      <td>0.0</td>\n",
       "      <td>0.0</td>\n",
       "      <td>0.0</td>\n",
       "      <td>0.0</td>\n",
       "      <td>0.0</td>\n",
       "      <td>0.0</td>\n",
       "    </tr>\n",
       "  </tbody>\n",
       "</table>\n",
       "<p>5 rows × 3568 columns</p>\n",
       "</div>"
      ],
      "text/plain": [
       "artist_id             5555991584  B0000000ZW  B00000016T  B00000016W  \\\n",
       "reviewer_id                                                            \n",
       "A08161909WK3HU7UYTMW         0.0         0.0         0.0         0.0   \n",
       "A1020L7BWW9RAX               0.0         0.0         0.0         0.0   \n",
       "A10323WWTFPSGP               0.0         0.0         0.0         0.0   \n",
       "A103KNDW8GN92L               0.0         0.0         0.0         0.0   \n",
       "A103W7ZPKGOCC9               0.0         0.0         0.0         0.0   \n",
       "\n",
       "artist_id             B00000017R  B0000001P4  B0000002HZ  B0000002J9  \\\n",
       "reviewer_id                                                            \n",
       "A08161909WK3HU7UYTMW         0.0         0.0         0.0         0.0   \n",
       "A1020L7BWW9RAX               0.0         0.0         0.0         0.0   \n",
       "A10323WWTFPSGP               0.0         0.0         0.0         0.0   \n",
       "A103KNDW8GN92L               0.0         0.0         0.0         0.0   \n",
       "A103W7ZPKGOCC9               0.0         0.0         0.0         0.0   \n",
       "\n",
       "artist_id             B0000002JR  B0000002ME     ...      B00II5VHBU  \\\n",
       "reviewer_id                                      ...                   \n",
       "A08161909WK3HU7UYTMW         0.0         0.0     ...             0.0   \n",
       "A1020L7BWW9RAX               0.0         0.0     ...             0.0   \n",
       "A10323WWTFPSGP               0.0         0.0     ...             0.0   \n",
       "A103KNDW8GN92L               0.0         0.0     ...             0.0   \n",
       "A103W7ZPKGOCC9               0.0         0.0     ...             0.0   \n",
       "\n",
       "artist_id             B00IOVH8AW  B00IXZ9QP4  B00J80ED9M  B00JJCQRDE  \\\n",
       "reviewer_id                                                            \n",
       "A08161909WK3HU7UYTMW         0.0         0.0         0.0         0.0   \n",
       "A1020L7BWW9RAX               0.0         0.0         0.0         0.0   \n",
       "A10323WWTFPSGP               0.0         0.0         0.0         0.0   \n",
       "A103KNDW8GN92L               0.0         0.0         0.0         0.0   \n",
       "A103W7ZPKGOCC9               0.0         0.0         0.0         0.0   \n",
       "\n",
       "artist_id             B00JJOG5D4  B00JRBLSR2  B00JTHVWO8  B00JYKU6BK  \\\n",
       "reviewer_id                                                            \n",
       "A08161909WK3HU7UYTMW         0.0         0.0         0.0         0.0   \n",
       "A1020L7BWW9RAX               0.0         0.0         0.0         0.0   \n",
       "A10323WWTFPSGP               0.0         0.0         0.0         0.0   \n",
       "A103KNDW8GN92L               0.0         0.0         0.0         0.0   \n",
       "A103W7ZPKGOCC9               0.0         0.0         0.0         0.0   \n",
       "\n",
       "artist_id             B00KILDVEI  \n",
       "reviewer_id                       \n",
       "A08161909WK3HU7UYTMW         0.0  \n",
       "A1020L7BWW9RAX               0.0  \n",
       "A10323WWTFPSGP               0.0  \n",
       "A103KNDW8GN92L               0.0  \n",
       "A103W7ZPKGOCC9               0.0  \n",
       "\n",
       "[5 rows x 3568 columns]"
      ]
     },
     "execution_count": 15,
     "metadata": {},
     "output_type": "execute_result"
    }
   ],
   "source": [
    "us_rat_df = music_rat_df.pivot(index = 'reviewer_id', columns ='artist_id', values = 'rating').fillna(0)\n",
    "us_rat_df.head()"
   ]
  },
  {
   "cell_type": "code",
   "execution_count": 16,
   "metadata": {
    "collapsed": false
   },
   "outputs": [
    {
     "name": "stdout",
     "output_type": "stream",
     "text": [
      "Number of reviewers: 5541\n",
      "Number of items rated: 3568\n"
     ]
    }
   ],
   "source": [
    "print (\"Number of reviewers: \"+ str(len(music_rat_df['reviewer_id'].unique())))\n",
    "print (\"Number of items rated: \" + str(len(music_rat_df['artist_id'].unique())))"
   ]
  },
  {
   "cell_type": "code",
   "execution_count": 17,
   "metadata": {
    "collapsed": false
   },
   "outputs": [],
   "source": [
    "n_unique_users = music_rat_df['reviewer_id'].nunique()\n",
    "n_unique_items = music_rat_df['artist_id'].nunique()"
   ]
  },
  {
   "cell_type": "code",
   "execution_count": 8,
   "metadata": {
    "collapsed": false
   },
   "outputs": [],
   "source": [
    "#Calculate sparsity level of user-rating matrix\n"
   ]
  },
  {
   "cell_type": "markdown",
   "metadata": {},
   "source": [
    "<h2> Train Test Split </h2>"
   ]
  },
  {
   "cell_type": "code",
   "execution_count": 9,
   "metadata": {
    "collapsed": false
   },
   "outputs": [],
   "source": [
    "users_dictionary = {}\n",
    "items_dictionary = {}\n",
    "ci = 0 \n",
    "cu = 0\n",
    "\n",
    "for i in range(0, music_data_detailed.shape[0]-1):\n",
    "    if (items_dictionary.get(music_data_detailed.iloc[i].artist_id) == None):\n",
    "        items_dictionary.update({ music_data_detailed.iloc[i].artist_id : ci})\n",
    "        ci+=1\n",
    "        \n",
    "    if (users_dictionary.get(music_data_detailed.iloc[i].reviewer_id) == None):\n",
    "        users_dictionary.update({music_data_detailed.iloc[i].reviewer_id : cu})\n",
    "        cu+=1"
   ]
  },
  {
   "cell_type": "code",
   "execution_count": 10,
   "metadata": {
    "collapsed": false
   },
   "outputs": [
    {
     "name": "stdout",
     "output_type": "stream",
     "text": [
      "3568\n",
      "5541\n"
     ]
    }
   ],
   "source": [
    "print(len(items_dictionary))\n",
    "print(len(users_dictionary))\n",
    "\n",
    "item_val_array = np.fromiter(iter(items_dictionary.values()), dtype=int)\n",
    "item_val_array = np.sort(item_val_array)\n",
    "\n",
    "user_val_array = np.fromiter(iter(users_dictionary.values()), dtype = int)\n",
    "user_val_array = np.sort(user_val_array)"
   ]
  },
  {
   "cell_type": "code",
   "execution_count": 11,
   "metadata": {
    "collapsed": false
   },
   "outputs": [
    {
     "data": {
      "text/plain": [
       "array([   0,    1,    2, ..., 3565, 3566, 3567])"
      ]
     },
     "execution_count": 11,
     "metadata": {},
     "output_type": "execute_result"
    }
   ],
   "source": [
    "item_val_array"
   ]
  },
  {
   "cell_type": "code",
   "execution_count": 12,
   "metadata": {
    "collapsed": false
   },
   "outputs": [
    {
     "data": {
      "text/plain": [
       "array([   0,    1,    2, ..., 5538, 5539, 5540])"
      ]
     },
     "execution_count": 12,
     "metadata": {},
     "output_type": "execute_result"
    }
   ],
   "source": [
    "user_val_array"
   ]
  },
  {
   "cell_type": "code",
   "execution_count": 13,
   "metadata": {
    "collapsed": true
   },
   "outputs": [],
   "source": [
    "train_data, test_data = train_test_split(music_data_detailed, test_size = 0.25)"
   ]
  },
  {
   "cell_type": "markdown",
   "metadata": {},
   "source": [
    "<h2> Memory-Based Collaborative Filtering </h2>"
   ]
  },
  {
   "cell_type": "code",
   "execution_count": 14,
   "metadata": {
    "collapsed": false
   },
   "outputs": [],
   "source": [
    "#Create two user-item matrices, one for training and another for testing\n",
    "train_data_matrix = np.zeros((n_unique_users, n_unique_items))\n",
    "for line in train_data.itertuples():\n",
    "    train_data_matrix[users_dictionary.get(line[4]), items_dictionary.get(line[1])] = line[2]\n",
    "    \n",
    "test_data_matrix = np.zeros((n_unique_users, n_unique_items))\n",
    "for line in test_data.itertuples():\n",
    "    test_data_matrix[users_dictionary.get(line[4]), items_dictionary.get(line[1])] = line[2]"
   ]
  },
  {
   "cell_type": "code",
   "execution_count": 15,
   "metadata": {
    "collapsed": false
   },
   "outputs": [],
   "source": [
    "user_similarity = pairwise_distances(train_data_matrix, metric = 'cosine')"
   ]
  },
  {
   "cell_type": "code",
   "execution_count": 19,
   "metadata": {
    "collapsed": true
   },
   "outputs": [],
   "source": [
    "item_similarity = pairwise_distances(train_data_matrix.T, metric = 'cosine')"
   ]
  },
  {
   "cell_type": "code",
   "execution_count": 20,
   "metadata": {
    "collapsed": true
   },
   "outputs": [],
   "source": [
    "def predict(ratings, similarity, type = 'user'):\n",
    "    if type == 'user':\n",
    "        mean_user_rating = ratings.mean(axis = 1)\n",
    "        #You use np.newaxis so that mean_user_rating has same format as ratings\n",
    "        ratings_diff = (ratings - mean_user_rating[:, np.newaxis])\n",
    "        pred = mean_user_rating[:, np.newaxis] + similarity.dot(ratings_diff) / np.array([np.abs(similarity).sum(axis = 1)]).T\n",
    "    elif type == 'item':\n",
    "        pred = ratings.dot(similarity) / np.array([np.abs(similarity).sum(axis = 1)])\n",
    "    return pred"
   ]
  },
  {
   "cell_type": "code",
   "execution_count": 21,
   "metadata": {
    "collapsed": true
   },
   "outputs": [],
   "source": [
    "item_prediction = predict(train_data_matrix, item_similarity, type = 'item')\n",
    "user_prediction = predict(train_data_matrix, user_similarity, type = 'user')"
   ]
  },
  {
   "cell_type": "code",
   "execution_count": 32,
   "metadata": {
    "collapsed": true
   },
   "outputs": [],
   "source": [
    "def rmse(prediction, ground_truth):\n",
    "    prediction = prediction[ground_truth.nonzero()].flatten() \n",
    "    ground_truth = ground_truth[ground_truth.nonzero()].flatten()\n",
    "    return sqrt(mean_squared_error(prediction, ground_truth))"
   ]
  },
  {
   "cell_type": "code",
   "execution_count": 23,
   "metadata": {
    "collapsed": false
   },
   "outputs": [
    {
     "name": "stdout",
     "output_type": "stream",
     "text": [
      "User-based CF RMSE: 4.312930350250258\n",
      "Item-based CF RMSE: 4.326188696903299\n"
     ]
    }
   ],
   "source": [
    "print('User-based CF RMSE: ' + str(rmse(user_prediction, test_data_matrix)))\n",
    "print('Item-based CF RMSE: ' + str(rmse(item_prediction, test_data_matrix)))"
   ]
  },
  {
   "cell_type": "code",
   "execution_count": 5,
   "metadata": {
    "collapsed": false
   },
   "outputs": [
    {
     "ename": "SyntaxError",
     "evalue": "invalid syntax (<ipython-input-5-39236e13ef1a>, line 1)",
     "output_type": "error",
     "traceback": [
      "\u001b[0;36m  File \u001b[0;32m\"<ipython-input-5-39236e13ef1a>\"\u001b[0;36m, line \u001b[0;32m1\u001b[0m\n\u001b[0;31m    def get_number_of_rated (userID, dataset)\u001b[0m\n\u001b[0m                                             ^\u001b[0m\n\u001b[0;31mSyntaxError\u001b[0m\u001b[0;31m:\u001b[0m invalid syntax\n"
     ]
    }
   ],
   "source": []
  },
  {
   "cell_type": "code",
   "execution_count": null,
   "metadata": {
    "collapsed": true
   },
   "outputs": [],
   "source": []
  },
  {
   "cell_type": "markdown",
   "metadata": {},
   "source": [
    "# Model-based Collaborative Filtering"
   ]
  },
  {
   "cell_type": "code",
   "execution_count": 132,
   "metadata": {
    "collapsed": false
   },
   "outputs": [
    {
     "name": "stdout",
     "output_type": "stream",
     "text": [
      "The sparsity level of dataset is 99.7%\n"
     ]
    }
   ],
   "source": [
    "sparsity=round(1.0-len(music_data_detailed)/float(n_unique_users*n_unique_items),3)\n",
    "print('The sparsity level of dataset is ' +  str(sparsity*100) + '%')"
   ]
  },
  {
   "cell_type": "code",
   "execution_count": 149,
   "metadata": {
    "collapsed": false
   },
   "outputs": [
    {
     "name": "stdout",
     "output_type": "stream",
     "text": [
      "User-based CF MSE: 4.141157987186154\n"
     ]
    }
   ],
   "source": [
    "#get SVD components from train matrix. Choose k.\n",
    "u, s, vt = svds(train_data_matrix, k = 50)\n",
    "s_diag_matrix=np.diag(s)\n",
    "X_pred = np.dot(np.dot(u, s_diag_matrix), vt)\n",
    "print('User-based CF MSE: ' + str(rmse(X_pred, test_data_matrix)))"
   ]
  },
  {
   "cell_type": "code",
   "execution_count": null,
   "metadata": {
    "collapsed": true
   },
   "outputs": [],
   "source": []
  },
  {
   "cell_type": "markdown",
   "metadata": {},
   "source": [
    "# SVD"
   ]
  },
  {
   "cell_type": "code",
   "execution_count": 84,
   "metadata": {
    "collapsed": false
   },
   "outputs": [
    {
     "data": {
      "text/html": [
       "<div>\n",
       "<style scoped>\n",
       "    .dataframe tbody tr th:only-of-type {\n",
       "        vertical-align: middle;\n",
       "    }\n",
       "\n",
       "    .dataframe tbody tr th {\n",
       "        vertical-align: top;\n",
       "    }\n",
       "\n",
       "    .dataframe thead th {\n",
       "        text-align: right;\n",
       "    }\n",
       "</style>\n",
       "<table border=\"1\" class=\"dataframe\">\n",
       "  <thead>\n",
       "    <tr style=\"text-align: right;\">\n",
       "      <th>artist_id</th>\n",
       "      <th>5555991584</th>\n",
       "      <th>B0000000ZW</th>\n",
       "      <th>B00000016T</th>\n",
       "      <th>B00000016W</th>\n",
       "      <th>B00000017R</th>\n",
       "      <th>B0000001P4</th>\n",
       "      <th>B0000002HZ</th>\n",
       "      <th>B0000002J9</th>\n",
       "      <th>B0000002JR</th>\n",
       "      <th>B0000002ME</th>\n",
       "      <th>...</th>\n",
       "      <th>B00II5VHBU</th>\n",
       "      <th>B00IOVH8AW</th>\n",
       "      <th>B00IXZ9QP4</th>\n",
       "      <th>B00J80ED9M</th>\n",
       "      <th>B00JJCQRDE</th>\n",
       "      <th>B00JJOG5D4</th>\n",
       "      <th>B00JRBLSR2</th>\n",
       "      <th>B00JTHVWO8</th>\n",
       "      <th>B00JYKU6BK</th>\n",
       "      <th>B00KILDVEI</th>\n",
       "    </tr>\n",
       "    <tr>\n",
       "      <th>reviewer_id</th>\n",
       "      <th></th>\n",
       "      <th></th>\n",
       "      <th></th>\n",
       "      <th></th>\n",
       "      <th></th>\n",
       "      <th></th>\n",
       "      <th></th>\n",
       "      <th></th>\n",
       "      <th></th>\n",
       "      <th></th>\n",
       "      <th></th>\n",
       "      <th></th>\n",
       "      <th></th>\n",
       "      <th></th>\n",
       "      <th></th>\n",
       "      <th></th>\n",
       "      <th></th>\n",
       "      <th></th>\n",
       "      <th></th>\n",
       "      <th></th>\n",
       "      <th></th>\n",
       "    </tr>\n",
       "  </thead>\n",
       "  <tbody>\n",
       "    <tr>\n",
       "      <th>A08161909WK3HU7UYTMW</th>\n",
       "      <td>0.0</td>\n",
       "      <td>0.0</td>\n",
       "      <td>0.0</td>\n",
       "      <td>0.0</td>\n",
       "      <td>0.0</td>\n",
       "      <td>0.0</td>\n",
       "      <td>0.0</td>\n",
       "      <td>0.0</td>\n",
       "      <td>0.0</td>\n",
       "      <td>0.0</td>\n",
       "      <td>...</td>\n",
       "      <td>0.0</td>\n",
       "      <td>0.0</td>\n",
       "      <td>0.0</td>\n",
       "      <td>0.0</td>\n",
       "      <td>0.0</td>\n",
       "      <td>0.0</td>\n",
       "      <td>0.0</td>\n",
       "      <td>0.0</td>\n",
       "      <td>0.0</td>\n",
       "      <td>0.0</td>\n",
       "    </tr>\n",
       "    <tr>\n",
       "      <th>A1020L7BWW9RAX</th>\n",
       "      <td>0.0</td>\n",
       "      <td>0.0</td>\n",
       "      <td>0.0</td>\n",
       "      <td>0.0</td>\n",
       "      <td>0.0</td>\n",
       "      <td>0.0</td>\n",
       "      <td>0.0</td>\n",
       "      <td>0.0</td>\n",
       "      <td>0.0</td>\n",
       "      <td>0.0</td>\n",
       "      <td>...</td>\n",
       "      <td>0.0</td>\n",
       "      <td>0.0</td>\n",
       "      <td>0.0</td>\n",
       "      <td>0.0</td>\n",
       "      <td>0.0</td>\n",
       "      <td>0.0</td>\n",
       "      <td>0.0</td>\n",
       "      <td>0.0</td>\n",
       "      <td>0.0</td>\n",
       "      <td>0.0</td>\n",
       "    </tr>\n",
       "    <tr>\n",
       "      <th>A10323WWTFPSGP</th>\n",
       "      <td>0.0</td>\n",
       "      <td>0.0</td>\n",
       "      <td>0.0</td>\n",
       "      <td>0.0</td>\n",
       "      <td>0.0</td>\n",
       "      <td>0.0</td>\n",
       "      <td>0.0</td>\n",
       "      <td>0.0</td>\n",
       "      <td>0.0</td>\n",
       "      <td>0.0</td>\n",
       "      <td>...</td>\n",
       "      <td>0.0</td>\n",
       "      <td>0.0</td>\n",
       "      <td>0.0</td>\n",
       "      <td>0.0</td>\n",
       "      <td>0.0</td>\n",
       "      <td>0.0</td>\n",
       "      <td>0.0</td>\n",
       "      <td>0.0</td>\n",
       "      <td>0.0</td>\n",
       "      <td>0.0</td>\n",
       "    </tr>\n",
       "  </tbody>\n",
       "</table>\n",
       "<p>3 rows × 3568 columns</p>\n",
       "</div>"
      ],
      "text/plain": [
       "artist_id             5555991584  B0000000ZW  B00000016T  B00000016W  \\\n",
       "reviewer_id                                                            \n",
       "A08161909WK3HU7UYTMW         0.0         0.0         0.0         0.0   \n",
       "A1020L7BWW9RAX               0.0         0.0         0.0         0.0   \n",
       "A10323WWTFPSGP               0.0         0.0         0.0         0.0   \n",
       "\n",
       "artist_id             B00000017R  B0000001P4  B0000002HZ  B0000002J9  \\\n",
       "reviewer_id                                                            \n",
       "A08161909WK3HU7UYTMW         0.0         0.0         0.0         0.0   \n",
       "A1020L7BWW9RAX               0.0         0.0         0.0         0.0   \n",
       "A10323WWTFPSGP               0.0         0.0         0.0         0.0   \n",
       "\n",
       "artist_id             B0000002JR  B0000002ME     ...      B00II5VHBU  \\\n",
       "reviewer_id                                      ...                   \n",
       "A08161909WK3HU7UYTMW         0.0         0.0     ...             0.0   \n",
       "A1020L7BWW9RAX               0.0         0.0     ...             0.0   \n",
       "A10323WWTFPSGP               0.0         0.0     ...             0.0   \n",
       "\n",
       "artist_id             B00IOVH8AW  B00IXZ9QP4  B00J80ED9M  B00JJCQRDE  \\\n",
       "reviewer_id                                                            \n",
       "A08161909WK3HU7UYTMW         0.0         0.0         0.0         0.0   \n",
       "A1020L7BWW9RAX               0.0         0.0         0.0         0.0   \n",
       "A10323WWTFPSGP               0.0         0.0         0.0         0.0   \n",
       "\n",
       "artist_id             B00JJOG5D4  B00JRBLSR2  B00JTHVWO8  B00JYKU6BK  \\\n",
       "reviewer_id                                                            \n",
       "A08161909WK3HU7UYTMW         0.0         0.0         0.0         0.0   \n",
       "A1020L7BWW9RAX               0.0         0.0         0.0         0.0   \n",
       "A10323WWTFPSGP               0.0         0.0         0.0         0.0   \n",
       "\n",
       "artist_id             B00KILDVEI  \n",
       "reviewer_id                       \n",
       "A08161909WK3HU7UYTMW         0.0  \n",
       "A1020L7BWW9RAX               0.0  \n",
       "A10323WWTFPSGP               0.0  \n",
       "\n",
       "[3 rows x 3568 columns]"
      ]
     },
     "execution_count": 84,
     "metadata": {},
     "output_type": "execute_result"
    }
   ],
   "source": [
    "r_df = music_data_detailed.pivot(index = 'reviewer_id', columns ='artist_id', values = 'rating').fillna(0)\n",
    "r_df.head(3)"
   ]
  },
  {
   "cell_type": "code",
   "execution_count": 55,
   "metadata": {
    "collapsed": true
   },
   "outputs": [],
   "source": [
    "def n_rated_by_user(user_id, row):\n",
    "    c = 0\n",
    "    for i in range(0, row.size) :\n",
    "        if int(row[i])>0:\n",
    "            c+=1\n",
    "            \n",
    "    return c"
   ]
  },
  {
   "cell_type": "code",
   "execution_count": 17,
   "metadata": {
    "collapsed": false
   },
   "outputs": [
    {
     "name": "stdout",
     "output_type": "stream",
     "text": [
      "0.4353330135345459\n"
     ]
    }
   ],
   "source": [
    "start = time.time()\n",
    "n_rated_by_user('A08161909WK3HU7UYTMW', r_df)\n",
    "r_df.drop('A08161909WK3HU7UYTMW', inplace = True)\n",
    "end = time.time()\n",
    "print(end - start)"
   ]
  },
  {
   "cell_type": "code",
   "execution_count": 94,
   "metadata": {
    "collapsed": false
   },
   "outputs": [],
   "source": [
    "distribution = np.zeros(r_df.shape[0])"
   ]
  },
  {
   "cell_type": "code",
   "execution_count": 95,
   "metadata": {
    "collapsed": false
   },
   "outputs": [],
   "source": [
    "#rr_df = r_df.drop(r_df[(n_rated_by_user(r_df.index[i], r_df) < 5) for i in r_df.index.values].index)\n",
    "i = 0\n",
    "for index, row in r_df.iterrows():\n",
    "    distribution[i] = n_rated_by_user(index, row)\n",
    "    if distribution[i] < 20:\n",
    "        r_df.drop(index, inplace = True)\n",
    "    i+=1"
   ]
  },
  {
   "cell_type": "code",
   "execution_count": 127,
   "metadata": {
    "collapsed": false
   },
   "outputs": [
    {
     "data": {
      "text/plain": [
       "(5541,)"
      ]
     },
     "execution_count": 127,
     "metadata": {},
     "output_type": "execute_result"
    }
   ],
   "source": [
    "distribution.shape"
   ]
  },
  {
   "cell_type": "code",
   "execution_count": 131,
   "metadata": {
    "collapsed": false
   },
   "outputs": [
    {
     "data": {
      "image/png": "[encoded data removed]",
      "text/plain": [
       "<matplotlib.figure.Figure at 0x21ad86ed0f0>"
      ]
     },
     "metadata": {},
     "output_type": "display_data"
    }
   ],
   "source": [
    "import matplotlib.pyplot as plt\n",
    "plt.figure(figsize=(20,7))\n",
    "plt.xlim(0,120)\n",
    "plt.hist(distribution.astype(int), bins=150)\n",
    "plt.show()"
   ]
  },
  {
   "cell_type": "code",
   "execution_count": 61,
   "metadata": {
    "collapsed": true
   },
   "outputs": [],
   "source": [
    "train, test = train_test_split(r_df, test_size = 0.25)"
   ]
  },
  {
   "cell_type": "code",
   "execution_count": null,
   "metadata": {
    "collapsed": true
   },
   "outputs": [],
   "source": [
    "r = train.as_matrix()\n",
    "user_ratings_mean = np.mean(r, axis = 1)\n",
    "r_demeaned = r - user_ratings_mean.reshape(-1, 1)"
   ]
  },
  {
   "cell_type": "code",
   "execution_count": 80,
   "metadata": {
    "collapsed": true
   },
   "outputs": [],
   "source": [
    "U, sigma, Vt = svds(r_demeaned, k = 12)\n",
    "sigma = np.diag(sigma)\n",
    "all_user_predicted_ratings = np.dot(np.dot(U, sigma), Vt) + user_ratings_mean.reshape(-1, 1)"
   ]
  },
  {
   "cell_type": "code",
   "execution_count": 81,
   "metadata": {
    "collapsed": false
   },
   "outputs": [
    {
     "name": "stdout",
     "output_type": "stream",
     "text": [
      "User-based CF MSE: 4.23297390802323\n"
     ]
    }
   ],
   "source": [
    "print('User-based CF MSE: ' + str(rmse(all_user_predicted_ratings, test.as_matrix())))"
   ]
  },
  {
   "cell_type": "code",
   "execution_count": 67,
   "metadata": {
    "collapsed": false
   },
   "outputs": [
    {
     "name": "stdout",
     "output_type": "stream",
     "text": [
      "User-based CF MSE: 4.247648597312554\n"
     ]
    }
   ],
   "source": [
    "u, s, vt = svds(train.as_matrix(), k = 100)\n",
    "s_diag_matrix=np.diag(s)\n",
    "X_pred = np.dot(np.dot(u, s_diag_matrix), vt)\n",
    "print('User-based CF MSE: ' + str(rmse(X_pred, test.as_matrix())))"
   ]
  },
  {
   "cell_type": "code",
   "execution_count": 29,
   "metadata": {
    "collapsed": false
   },
   "outputs": [
    {
     "data": {
      "text/html": [
       "<div>\n",
       "<style scoped>\n",
       "    .dataframe tbody tr th:only-of-type {\n",
       "        vertical-align: middle;\n",
       "    }\n",
       "\n",
       "    .dataframe tbody tr th {\n",
       "        vertical-align: top;\n",
       "    }\n",
       "\n",
       "    .dataframe thead th {\n",
       "        text-align: right;\n",
       "    }\n",
       "</style>\n",
       "<table border=\"1\" class=\"dataframe\">\n",
       "  <thead>\n",
       "    <tr style=\"text-align: right;\">\n",
       "      <th>artist_id</th>\n",
       "      <th>5555991584</th>\n",
       "      <th>B0000000ZW</th>\n",
       "      <th>B00000016T</th>\n",
       "      <th>B00000016W</th>\n",
       "      <th>B00000017R</th>\n",
       "      <th>B0000001P4</th>\n",
       "      <th>B0000002HZ</th>\n",
       "      <th>B0000002J9</th>\n",
       "      <th>B0000002JR</th>\n",
       "      <th>B0000002ME</th>\n",
       "      <th>...</th>\n",
       "      <th>B00II5VHBU</th>\n",
       "      <th>B00IOVH8AW</th>\n",
       "      <th>B00IXZ9QP4</th>\n",
       "      <th>B00J80ED9M</th>\n",
       "      <th>B00JJCQRDE</th>\n",
       "      <th>B00JJOG5D4</th>\n",
       "      <th>B00JRBLSR2</th>\n",
       "      <th>B00JTHVWO8</th>\n",
       "      <th>B00JYKU6BK</th>\n",
       "      <th>B00KILDVEI</th>\n",
       "    </tr>\n",
       "    <tr>\n",
       "      <th>reviewer_id</th>\n",
       "      <th></th>\n",
       "      <th></th>\n",
       "      <th></th>\n",
       "      <th></th>\n",
       "      <th></th>\n",
       "      <th></th>\n",
       "      <th></th>\n",
       "      <th></th>\n",
       "      <th></th>\n",
       "      <th></th>\n",
       "      <th></th>\n",
       "      <th></th>\n",
       "      <th></th>\n",
       "      <th></th>\n",
       "      <th></th>\n",
       "      <th></th>\n",
       "      <th></th>\n",
       "      <th></th>\n",
       "      <th></th>\n",
       "      <th></th>\n",
       "      <th></th>\n",
       "    </tr>\n",
       "  </thead>\n",
       "  <tbody>\n",
       "    <tr>\n",
       "      <th>AZVH70JMJ2IHX</th>\n",
       "      <td>0.0</td>\n",
       "      <td>0.0</td>\n",
       "      <td>0.0</td>\n",
       "      <td>0.0</td>\n",
       "      <td>0.0</td>\n",
       "      <td>0.0</td>\n",
       "      <td>0.0</td>\n",
       "      <td>0.0</td>\n",
       "      <td>0.0</td>\n",
       "      <td>0.0</td>\n",
       "      <td>...</td>\n",
       "      <td>0.0</td>\n",
       "      <td>0.0</td>\n",
       "      <td>0.0</td>\n",
       "      <td>0.0</td>\n",
       "      <td>0.0</td>\n",
       "      <td>0.0</td>\n",
       "      <td>0.0</td>\n",
       "      <td>0.0</td>\n",
       "      <td>0.0</td>\n",
       "      <td>0.0</td>\n",
       "    </tr>\n",
       "    <tr>\n",
       "      <th>AZVHFS4KQBQTK</th>\n",
       "      <td>0.0</td>\n",
       "      <td>0.0</td>\n",
       "      <td>0.0</td>\n",
       "      <td>0.0</td>\n",
       "      <td>0.0</td>\n",
       "      <td>0.0</td>\n",
       "      <td>0.0</td>\n",
       "      <td>0.0</td>\n",
       "      <td>0.0</td>\n",
       "      <td>0.0</td>\n",
       "      <td>...</td>\n",
       "      <td>0.0</td>\n",
       "      <td>0.0</td>\n",
       "      <td>0.0</td>\n",
       "      <td>0.0</td>\n",
       "      <td>0.0</td>\n",
       "      <td>0.0</td>\n",
       "      <td>0.0</td>\n",
       "      <td>0.0</td>\n",
       "      <td>0.0</td>\n",
       "      <td>0.0</td>\n",
       "    </tr>\n",
       "    <tr>\n",
       "      <th>AZWCAUCNLGL4H</th>\n",
       "      <td>0.0</td>\n",
       "      <td>0.0</td>\n",
       "      <td>0.0</td>\n",
       "      <td>0.0</td>\n",
       "      <td>0.0</td>\n",
       "      <td>0.0</td>\n",
       "      <td>0.0</td>\n",
       "      <td>0.0</td>\n",
       "      <td>0.0</td>\n",
       "      <td>0.0</td>\n",
       "      <td>...</td>\n",
       "      <td>0.0</td>\n",
       "      <td>0.0</td>\n",
       "      <td>0.0</td>\n",
       "      <td>0.0</td>\n",
       "      <td>0.0</td>\n",
       "      <td>0.0</td>\n",
       "      <td>0.0</td>\n",
       "      <td>0.0</td>\n",
       "      <td>0.0</td>\n",
       "      <td>0.0</td>\n",
       "    </tr>\n",
       "    <tr>\n",
       "      <th>AZY3MDFJJFI91</th>\n",
       "      <td>0.0</td>\n",
       "      <td>0.0</td>\n",
       "      <td>0.0</td>\n",
       "      <td>0.0</td>\n",
       "      <td>0.0</td>\n",
       "      <td>0.0</td>\n",
       "      <td>0.0</td>\n",
       "      <td>0.0</td>\n",
       "      <td>0.0</td>\n",
       "      <td>0.0</td>\n",
       "      <td>...</td>\n",
       "      <td>0.0</td>\n",
       "      <td>0.0</td>\n",
       "      <td>0.0</td>\n",
       "      <td>0.0</td>\n",
       "      <td>0.0</td>\n",
       "      <td>0.0</td>\n",
       "      <td>0.0</td>\n",
       "      <td>0.0</td>\n",
       "      <td>0.0</td>\n",
       "      <td>0.0</td>\n",
       "    </tr>\n",
       "    <tr>\n",
       "      <th>AZYZA8FDL48GD</th>\n",
       "      <td>0.0</td>\n",
       "      <td>0.0</td>\n",
       "      <td>0.0</td>\n",
       "      <td>0.0</td>\n",
       "      <td>0.0</td>\n",
       "      <td>0.0</td>\n",
       "      <td>0.0</td>\n",
       "      <td>0.0</td>\n",
       "      <td>0.0</td>\n",
       "      <td>0.0</td>\n",
       "      <td>...</td>\n",
       "      <td>0.0</td>\n",
       "      <td>0.0</td>\n",
       "      <td>0.0</td>\n",
       "      <td>0.0</td>\n",
       "      <td>0.0</td>\n",
       "      <td>0.0</td>\n",
       "      <td>0.0</td>\n",
       "      <td>0.0</td>\n",
       "      <td>0.0</td>\n",
       "      <td>0.0</td>\n",
       "    </tr>\n",
       "  </tbody>\n",
       "</table>\n",
       "<p>5 rows × 3568 columns</p>\n",
       "</div>"
      ],
      "text/plain": [
       "artist_id      5555991584  B0000000ZW  B00000016T  B00000016W  B00000017R  \\\n",
       "reviewer_id                                                                 \n",
       "AZVH70JMJ2IHX         0.0         0.0         0.0         0.0         0.0   \n",
       "AZVHFS4KQBQTK         0.0         0.0         0.0         0.0         0.0   \n",
       "AZWCAUCNLGL4H         0.0         0.0         0.0         0.0         0.0   \n",
       "AZY3MDFJJFI91         0.0         0.0         0.0         0.0         0.0   \n",
       "AZYZA8FDL48GD         0.0         0.0         0.0         0.0         0.0   \n",
       "\n",
       "artist_id      B0000001P4  B0000002HZ  B0000002J9  B0000002JR  B0000002ME  \\\n",
       "reviewer_id                                                                 \n",
       "AZVH70JMJ2IHX         0.0         0.0         0.0         0.0         0.0   \n",
       "AZVHFS4KQBQTK         0.0         0.0         0.0         0.0         0.0   \n",
       "AZWCAUCNLGL4H         0.0         0.0         0.0         0.0         0.0   \n",
       "AZY3MDFJJFI91         0.0         0.0         0.0         0.0         0.0   \n",
       "AZYZA8FDL48GD         0.0         0.0         0.0         0.0         0.0   \n",
       "\n",
       "artist_id         ...      B00II5VHBU  B00IOVH8AW  B00IXZ9QP4  B00J80ED9M  \\\n",
       "reviewer_id       ...                                                       \n",
       "AZVH70JMJ2IHX     ...             0.0         0.0         0.0         0.0   \n",
       "AZVHFS4KQBQTK     ...             0.0         0.0         0.0         0.0   \n",
       "AZWCAUCNLGL4H     ...             0.0         0.0         0.0         0.0   \n",
       "AZY3MDFJJFI91     ...             0.0         0.0         0.0         0.0   \n",
       "AZYZA8FDL48GD     ...             0.0         0.0         0.0         0.0   \n",
       "\n",
       "artist_id      B00JJCQRDE  B00JJOG5D4  B00JRBLSR2  B00JTHVWO8  B00JYKU6BK  \\\n",
       "reviewer_id                                                                 \n",
       "AZVH70JMJ2IHX         0.0         0.0         0.0         0.0         0.0   \n",
       "AZVHFS4KQBQTK         0.0         0.0         0.0         0.0         0.0   \n",
       "AZWCAUCNLGL4H         0.0         0.0         0.0         0.0         0.0   \n",
       "AZY3MDFJJFI91         0.0         0.0         0.0         0.0         0.0   \n",
       "AZYZA8FDL48GD         0.0         0.0         0.0         0.0         0.0   \n",
       "\n",
       "artist_id      B00KILDVEI  \n",
       "reviewer_id                \n",
       "AZVH70JMJ2IHX         0.0  \n",
       "AZVHFS4KQBQTK         0.0  \n",
       "AZWCAUCNLGL4H         0.0  \n",
       "AZY3MDFJJFI91         0.0  \n",
       "AZYZA8FDL48GD         0.0  \n",
       "\n",
       "[5 rows x 3568 columns]"
      ]
     },
     "execution_count": 29,
     "metadata": {},
     "output_type": "execute_result"
    }
   ],
   "source": [
    "\n"
   ]
  },
  {
   "cell_type": "code",
   "execution_count": 62,
   "metadata": {
    "collapsed": false
   },
   "outputs": [
    {
     "data": {
      "text/plain": [
       "(5541, 3568)"
      ]
     },
     "execution_count": 62,
     "metadata": {},
     "output_type": "execute_result"
    }
   ],
   "source": [
    "r_df.shape"
   ]
  },
  {
   "cell_type": "code",
   "execution_count": 52,
   "metadata": {
    "collapsed": false
   },
   "outputs": [],
   "source": []
  },
  {
   "cell_type": "code",
   "execution_count": 60,
   "metadata": {
    "collapsed": false
   },
   "outputs": [],
   "source": []
  },
  {
   "cell_type": "code",
   "execution_count": 61,
   "metadata": {
    "collapsed": false
   },
   "outputs": [
    {
     "data": {
      "text/plain": [
       "578"
      ]
     },
     "execution_count": 61,
     "metadata": {},
     "output_type": "execute_result"
    }
   ],
   "source": [
    "for i in range (0, r_df.shape[0])"
   ]
  },
  {
   "cell_type": "code",
   "execution_count": null,
   "metadata": {
    "collapsed": true
   },
   "outputs": [],
   "source": []
  }
 ],
 "metadata": {
  "anaconda-cloud": {},
  "kernelspec": {
   "display_name": "Python [conda env:Anaconda3]",
   "language": "python",
   "name": "conda-env-Anaconda3-py"
  },
  "language_info": {
   "codemirror_mode": {
    "name": "ipython",
    "version": 3
   },
   "file_extension": ".py",
   "mimetype": "text/x-python",
   "name": "python",
   "nbconvert_exporter": "python",
   "pygments_lexer": "ipython3",
   "version": "3.5.2"
  }
 },
 "nbformat": 4,
 "nbformat_minor": 2
}
