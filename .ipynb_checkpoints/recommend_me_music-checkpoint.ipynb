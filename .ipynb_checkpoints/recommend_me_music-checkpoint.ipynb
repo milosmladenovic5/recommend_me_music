{
 "cells": [
  {
   "cell_type": "code",
   "execution_count": 13,
   "metadata": {
    "collapsed": false
   },
   "outputs": [],
   "source": [
    "import numpy as np\n",
    "import pandas as pd\n",
    "import scipy.sparse as sp\n",
    "from scipy.sparse.linalg import svds\n",
    "from sklearn.metrics.pairwise import pairwise_distances\n",
    "from sklearn.cross_validation import train_test_split\n",
    "from sklearn.metrics import mean_squared_error\n",
    "from math import sqrt\n",
    "import time\n",
    "import matplotlib.pyplot as plt\n",
    "\n",
    "import warnings; warnings.simplefilter('ignore')"
   ]
  },
  {
   "cell_type": "code",
   "execution_count": 4,
   "metadata": {
    "collapsed": true
   },
   "outputs": [],
   "source": [
    "music_rat_df = pd.read_json(\"data/Digital_Music_5.json\", lines = True)\n",
    "#meta_df = pd.read_json(\"meta_Digital_Music.json\", lines = True)"
   ]
  },
  {
   "cell_type": "code",
   "execution_count": 5,
   "metadata": {
    "collapsed": false
   },
   "outputs": [],
   "source": [
    "music_rat_df = music_rat_df[['asin', 'overall', 'reviewText', 'reviewerID', 'reviewerName', 'summary']]"
   ]
  },
  {
   "cell_type": "code",
   "execution_count": 6,
   "metadata": {
    "collapsed": false
   },
   "outputs": [],
   "source": [
    "music_rat_df.rename(columns = {'asin':'artist_id', 'overall':'rating', 'reviewerID':'reviewer_id', 'reviewerName':'reviewer_name', 'reviewText':'review_text'}, inplace = True)"
   ]
  },
  {
   "cell_type": "code",
   "execution_count": 7,
   "metadata": {
    "collapsed": false
   },
   "outputs": [
    {
     "data": {
      "text/html": [
       "<div>\n",
       "<style scoped>\n",
       "    .dataframe tbody tr th:only-of-type {\n",
       "        vertical-align: middle;\n",
       "    }\n",
       "\n",
       "    .dataframe tbody tr th {\n",
       "        vertical-align: top;\n",
       "    }\n",
       "\n",
       "    .dataframe thead th {\n",
       "        text-align: right;\n",
       "    }\n",
       "</style>\n",
       "<table border=\"1\" class=\"dataframe\">\n",
       "  <thead>\n",
       "    <tr style=\"text-align: right;\">\n",
       "      <th></th>\n",
       "      <th>artist_id</th>\n",
       "      <th>rating</th>\n",
       "      <th>review_text</th>\n",
       "      <th>reviewer_id</th>\n",
       "      <th>reviewer_name</th>\n",
       "      <th>summary</th>\n",
       "    </tr>\n",
       "  </thead>\n",
       "  <tbody>\n",
       "    <tr>\n",
       "      <th>0</th>\n",
       "      <td>5555991584</td>\n",
       "      <td>5</td>\n",
       "      <td>It's hard to believe \"Memory of Trees\" came ou...</td>\n",
       "      <td>A3EBHHCZO6V2A4</td>\n",
       "      <td>Amaranth \"music fan\"</td>\n",
       "      <td>Enya's last great album</td>\n",
       "    </tr>\n",
       "    <tr>\n",
       "      <th>1</th>\n",
       "      <td>5555991584</td>\n",
       "      <td>5</td>\n",
       "      <td>A clasically-styled and introverted album, Mem...</td>\n",
       "      <td>AZPWAXJG9OJXV</td>\n",
       "      <td>bethtexas</td>\n",
       "      <td>Enya at her most elegant</td>\n",
       "    </tr>\n",
       "    <tr>\n",
       "      <th>2</th>\n",
       "      <td>5555991584</td>\n",
       "      <td>5</td>\n",
       "      <td>I never thought Enya would reach the sublime h...</td>\n",
       "      <td>A38IRL0X2T4DPF</td>\n",
       "      <td>bob turnley</td>\n",
       "      <td>The best so far</td>\n",
       "    </tr>\n",
       "    <tr>\n",
       "      <th>3</th>\n",
       "      <td>5555991584</td>\n",
       "      <td>5</td>\n",
       "      <td>This is the third review of an irish album I w...</td>\n",
       "      <td>A22IK3I6U76GX0</td>\n",
       "      <td>Calle</td>\n",
       "      <td>Ireland produces good music.</td>\n",
       "    </tr>\n",
       "    <tr>\n",
       "      <th>4</th>\n",
       "      <td>5555991584</td>\n",
       "      <td>4</td>\n",
       "      <td>Enya, despite being a successful recording art...</td>\n",
       "      <td>A1AISPOIIHTHXX</td>\n",
       "      <td>Cloud \"...\"</td>\n",
       "      <td>4.5; music to dream to</td>\n",
       "    </tr>\n",
       "  </tbody>\n",
       "</table>\n",
       "</div>"
      ],
      "text/plain": [
       "    artist_id  rating                                        review_text  \\\n",
       "0  5555991584       5  It's hard to believe \"Memory of Trees\" came ou...   \n",
       "1  5555991584       5  A clasically-styled and introverted album, Mem...   \n",
       "2  5555991584       5  I never thought Enya would reach the sublime h...   \n",
       "3  5555991584       5  This is the third review of an irish album I w...   \n",
       "4  5555991584       4  Enya, despite being a successful recording art...   \n",
       "\n",
       "      reviewer_id         reviewer_name                       summary  \n",
       "0  A3EBHHCZO6V2A4  Amaranth \"music fan\"       Enya's last great album  \n",
       "1   AZPWAXJG9OJXV             bethtexas      Enya at her most elegant  \n",
       "2  A38IRL0X2T4DPF           bob turnley               The best so far  \n",
       "3  A22IK3I6U76GX0                 Calle  Ireland produces good music.  \n",
       "4  A1AISPOIIHTHXX           Cloud \"...\"        4.5; music to dream to  "
      ]
     },
     "execution_count": 7,
     "metadata": {},
     "output_type": "execute_result"
    }
   ],
   "source": [
    "music_rat_df.head()"
   ]
  },
  {
   "cell_type": "code",
   "execution_count": 8,
   "metadata": {
    "collapsed": false
   },
   "outputs": [
    {
     "data": {
      "text/html": [
       "<div>\n",
       "<style scoped>\n",
       "    .dataframe tbody tr th:only-of-type {\n",
       "        vertical-align: middle;\n",
       "    }\n",
       "\n",
       "    .dataframe tbody tr th {\n",
       "        vertical-align: top;\n",
       "    }\n",
       "\n",
       "    .dataframe thead th {\n",
       "        text-align: right;\n",
       "    }\n",
       "</style>\n",
       "<table border=\"1\" class=\"dataframe\">\n",
       "  <thead>\n",
       "    <tr style=\"text-align: right;\">\n",
       "      <th>artist_id</th>\n",
       "      <th>5555991584</th>\n",
       "      <th>B0000000ZW</th>\n",
       "      <th>B00000016T</th>\n",
       "      <th>B00000016W</th>\n",
       "      <th>B00000017R</th>\n",
       "      <th>B0000001P4</th>\n",
       "      <th>B0000002HZ</th>\n",
       "      <th>B0000002J9</th>\n",
       "      <th>B0000002JR</th>\n",
       "      <th>B0000002ME</th>\n",
       "      <th>...</th>\n",
       "      <th>B00II5VHBU</th>\n",
       "      <th>B00IOVH8AW</th>\n",
       "      <th>B00IXZ9QP4</th>\n",
       "      <th>B00J80ED9M</th>\n",
       "      <th>B00JJCQRDE</th>\n",
       "      <th>B00JJOG5D4</th>\n",
       "      <th>B00JRBLSR2</th>\n",
       "      <th>B00JTHVWO8</th>\n",
       "      <th>B00JYKU6BK</th>\n",
       "      <th>B00KILDVEI</th>\n",
       "    </tr>\n",
       "    <tr>\n",
       "      <th>reviewer_id</th>\n",
       "      <th></th>\n",
       "      <th></th>\n",
       "      <th></th>\n",
       "      <th></th>\n",
       "      <th></th>\n",
       "      <th></th>\n",
       "      <th></th>\n",
       "      <th></th>\n",
       "      <th></th>\n",
       "      <th></th>\n",
       "      <th></th>\n",
       "      <th></th>\n",
       "      <th></th>\n",
       "      <th></th>\n",
       "      <th></th>\n",
       "      <th></th>\n",
       "      <th></th>\n",
       "      <th></th>\n",
       "      <th></th>\n",
       "      <th></th>\n",
       "      <th></th>\n",
       "    </tr>\n",
       "  </thead>\n",
       "  <tbody>\n",
       "    <tr>\n",
       "      <th>A08161909WK3HU7UYTMW</th>\n",
       "      <td>0.0</td>\n",
       "      <td>0.0</td>\n",
       "      <td>0.0</td>\n",
       "      <td>0.0</td>\n",
       "      <td>0.0</td>\n",
       "      <td>0.0</td>\n",
       "      <td>0.0</td>\n",
       "      <td>0.0</td>\n",
       "      <td>0.0</td>\n",
       "      <td>0.0</td>\n",
       "      <td>...</td>\n",
       "      <td>0.0</td>\n",
       "      <td>0.0</td>\n",
       "      <td>0.0</td>\n",
       "      <td>0.0</td>\n",
       "      <td>0.0</td>\n",
       "      <td>0.0</td>\n",
       "      <td>0.0</td>\n",
       "      <td>0.0</td>\n",
       "      <td>0.0</td>\n",
       "      <td>0.0</td>\n",
       "    </tr>\n",
       "    <tr>\n",
       "      <th>A1020L7BWW9RAX</th>\n",
       "      <td>0.0</td>\n",
       "      <td>0.0</td>\n",
       "      <td>0.0</td>\n",
       "      <td>0.0</td>\n",
       "      <td>0.0</td>\n",
       "      <td>0.0</td>\n",
       "      <td>0.0</td>\n",
       "      <td>0.0</td>\n",
       "      <td>0.0</td>\n",
       "      <td>0.0</td>\n",
       "      <td>...</td>\n",
       "      <td>0.0</td>\n",
       "      <td>0.0</td>\n",
       "      <td>0.0</td>\n",
       "      <td>0.0</td>\n",
       "      <td>0.0</td>\n",
       "      <td>0.0</td>\n",
       "      <td>0.0</td>\n",
       "      <td>0.0</td>\n",
       "      <td>0.0</td>\n",
       "      <td>0.0</td>\n",
       "    </tr>\n",
       "    <tr>\n",
       "      <th>A10323WWTFPSGP</th>\n",
       "      <td>0.0</td>\n",
       "      <td>0.0</td>\n",
       "      <td>0.0</td>\n",
       "      <td>0.0</td>\n",
       "      <td>0.0</td>\n",
       "      <td>0.0</td>\n",
       "      <td>0.0</td>\n",
       "      <td>0.0</td>\n",
       "      <td>0.0</td>\n",
       "      <td>0.0</td>\n",
       "      <td>...</td>\n",
       "      <td>0.0</td>\n",
       "      <td>0.0</td>\n",
       "      <td>0.0</td>\n",
       "      <td>0.0</td>\n",
       "      <td>0.0</td>\n",
       "      <td>0.0</td>\n",
       "      <td>0.0</td>\n",
       "      <td>0.0</td>\n",
       "      <td>0.0</td>\n",
       "      <td>0.0</td>\n",
       "    </tr>\n",
       "    <tr>\n",
       "      <th>A103KNDW8GN92L</th>\n",
       "      <td>0.0</td>\n",
       "      <td>0.0</td>\n",
       "      <td>0.0</td>\n",
       "      <td>0.0</td>\n",
       "      <td>0.0</td>\n",
       "      <td>0.0</td>\n",
       "      <td>0.0</td>\n",
       "      <td>0.0</td>\n",
       "      <td>0.0</td>\n",
       "      <td>0.0</td>\n",
       "      <td>...</td>\n",
       "      <td>0.0</td>\n",
       "      <td>0.0</td>\n",
       "      <td>0.0</td>\n",
       "      <td>0.0</td>\n",
       "      <td>0.0</td>\n",
       "      <td>0.0</td>\n",
       "      <td>0.0</td>\n",
       "      <td>0.0</td>\n",
       "      <td>0.0</td>\n",
       "      <td>0.0</td>\n",
       "    </tr>\n",
       "    <tr>\n",
       "      <th>A103W7ZPKGOCC9</th>\n",
       "      <td>0.0</td>\n",
       "      <td>0.0</td>\n",
       "      <td>0.0</td>\n",
       "      <td>0.0</td>\n",
       "      <td>0.0</td>\n",
       "      <td>0.0</td>\n",
       "      <td>0.0</td>\n",
       "      <td>0.0</td>\n",
       "      <td>0.0</td>\n",
       "      <td>0.0</td>\n",
       "      <td>...</td>\n",
       "      <td>0.0</td>\n",
       "      <td>0.0</td>\n",
       "      <td>0.0</td>\n",
       "      <td>0.0</td>\n",
       "      <td>0.0</td>\n",
       "      <td>0.0</td>\n",
       "      <td>0.0</td>\n",
       "      <td>0.0</td>\n",
       "      <td>0.0</td>\n",
       "      <td>0.0</td>\n",
       "    </tr>\n",
       "  </tbody>\n",
       "</table>\n",
       "<p>5 rows × 3568 columns</p>\n",
       "</div>"
      ],
      "text/plain": [
       "artist_id             5555991584  B0000000ZW  B00000016T  B00000016W  \\\n",
       "reviewer_id                                                            \n",
       "A08161909WK3HU7UYTMW         0.0         0.0         0.0         0.0   \n",
       "A1020L7BWW9RAX               0.0         0.0         0.0         0.0   \n",
       "A10323WWTFPSGP               0.0         0.0         0.0         0.0   \n",
       "A103KNDW8GN92L               0.0         0.0         0.0         0.0   \n",
       "A103W7ZPKGOCC9               0.0         0.0         0.0         0.0   \n",
       "\n",
       "artist_id             B00000017R  B0000001P4  B0000002HZ  B0000002J9  \\\n",
       "reviewer_id                                                            \n",
       "A08161909WK3HU7UYTMW         0.0         0.0         0.0         0.0   \n",
       "A1020L7BWW9RAX               0.0         0.0         0.0         0.0   \n",
       "A10323WWTFPSGP               0.0         0.0         0.0         0.0   \n",
       "A103KNDW8GN92L               0.0         0.0         0.0         0.0   \n",
       "A103W7ZPKGOCC9               0.0         0.0         0.0         0.0   \n",
       "\n",
       "artist_id             B0000002JR  B0000002ME     ...      B00II5VHBU  \\\n",
       "reviewer_id                                      ...                   \n",
       "A08161909WK3HU7UYTMW         0.0         0.0     ...             0.0   \n",
       "A1020L7BWW9RAX               0.0         0.0     ...             0.0   \n",
       "A10323WWTFPSGP               0.0         0.0     ...             0.0   \n",
       "A103KNDW8GN92L               0.0         0.0     ...             0.0   \n",
       "A103W7ZPKGOCC9               0.0         0.0     ...             0.0   \n",
       "\n",
       "artist_id             B00IOVH8AW  B00IXZ9QP4  B00J80ED9M  B00JJCQRDE  \\\n",
       "reviewer_id                                                            \n",
       "A08161909WK3HU7UYTMW         0.0         0.0         0.0         0.0   \n",
       "A1020L7BWW9RAX               0.0         0.0         0.0         0.0   \n",
       "A10323WWTFPSGP               0.0         0.0         0.0         0.0   \n",
       "A103KNDW8GN92L               0.0         0.0         0.0         0.0   \n",
       "A103W7ZPKGOCC9               0.0         0.0         0.0         0.0   \n",
       "\n",
       "artist_id             B00JJOG5D4  B00JRBLSR2  B00JTHVWO8  B00JYKU6BK  \\\n",
       "reviewer_id                                                            \n",
       "A08161909WK3HU7UYTMW         0.0         0.0         0.0         0.0   \n",
       "A1020L7BWW9RAX               0.0         0.0         0.0         0.0   \n",
       "A10323WWTFPSGP               0.0         0.0         0.0         0.0   \n",
       "A103KNDW8GN92L               0.0         0.0         0.0         0.0   \n",
       "A103W7ZPKGOCC9               0.0         0.0         0.0         0.0   \n",
       "\n",
       "artist_id             B00KILDVEI  \n",
       "reviewer_id                       \n",
       "A08161909WK3HU7UYTMW         0.0  \n",
       "A1020L7BWW9RAX               0.0  \n",
       "A10323WWTFPSGP               0.0  \n",
       "A103KNDW8GN92L               0.0  \n",
       "A103W7ZPKGOCC9               0.0  \n",
       "\n",
       "[5 rows x 3568 columns]"
      ]
     },
     "execution_count": 8,
     "metadata": {},
     "output_type": "execute_result"
    }
   ],
   "source": [
    "us_rat_df = music_rat_df.pivot(index = 'reviewer_id', columns ='artist_id', values = 'rating').fillna(0)\n",
    "us_rat_df.head()"
   ]
  },
  {
   "cell_type": "code",
   "execution_count": 9,
   "metadata": {
    "collapsed": false
   },
   "outputs": [
    {
     "name": "stdout",
     "output_type": "stream",
     "text": [
      "Number of reviewers: 5541\n",
      "Number of items rated: 3568\n"
     ]
    }
   ],
   "source": [
    "print (\"Number of reviewers: \"+ str(len(music_rat_df['reviewer_id'].unique())))\n",
    "print (\"Number of items rated: \" + str(len(music_rat_df['artist_id'].unique())))"
   ]
  },
  {
   "cell_type": "code",
   "execution_count": 25,
   "metadata": {
    "collapsed": false
   },
   "outputs": [],
   "source": [
    "n_unique_users = music_rat_df['reviewer_id'].nunique()\n",
    "n_unique_artists = music_rat_df['artist_id'].nunique()"
   ]
  },
  {
   "cell_type": "code",
   "execution_count": 26,
   "metadata": {
    "collapsed": false
   },
   "outputs": [
    {
     "name": "stdout",
     "output_type": "stream",
     "text": [
      "The sparsity level of dataset is 99.7%\n"
     ]
    }
   ],
   "source": [
    "#Calculate sparsity level of dataset matrix\n",
    "\n",
    "sparsity=round(1.0-len(music_rat_df)/float(n_unique_users*n_unique_artists),3)\n",
    "print('The sparsity level of dataset is ' +  str(sparsity*100) + '%')"
   ]
  },
  {
   "cell_type": "markdown",
   "metadata": {},
   "source": [
    "# Train Test Split"
   ]
  },
  {
   "cell_type": "code",
   "execution_count": 27,
   "metadata": {
    "collapsed": true
   },
   "outputs": [],
   "source": [
    "train_data, test_data = train_test_split(us_rat_df, test_size = 0.25)"
   ]
  },
  {
   "cell_type": "code",
   "execution_count": 28,
   "metadata": {
    "collapsed": true
   },
   "outputs": [],
   "source": [
    "#Create two user-item matrices, one for training and another for testing\n",
    "\n",
    "train_data_matrix = train_data.as_matrix()\n",
    "test_data_matrix = test_data.as_matrix()"
   ]
  },
  {
   "cell_type": "markdown",
   "metadata": {},
   "source": [
    "# Memory-Based Collaborative Filtering"
   ]
  },
  {
   "cell_type": "markdown",
   "metadata": {},
   "source": [
    "- <h4> First calculate similarity between users </h4>\n",
    "<p> For that purpose, we will use the following formula: \n",
    "<img class=\"aligncenter size-thumbnail img-responsive\" src=\"https://latex.codecogs.com/gif.latex?s_u^{cos}(u_k,u_a)=\\frac{u_k&space;\\cdot&space;u_a&space;}{&space;\\left&space;\\|&space;u_k&space;\\right&space;\\|&space;\\left&space;\\|&space;u_a&space;\\right&space;\\|&space;}&space;=\\frac{\\sum&space;x_{k,m}x_{a,m}}{\\sqrt{\\sum&space;x_{k,m}^2\\sum&space;x_{a,m}^2}}\"/>"
   ]
  },
  {
   "cell_type": "code",
   "execution_count": 29,
   "metadata": {
    "collapsed": false
   },
   "outputs": [],
   "source": [
    "#First calculate similarity between users|\n",
    "user_similarity = pairwise_distances(train_data_matrix, metric = 'cosine')"
   ]
  },
  {
   "cell_type": "markdown",
   "metadata": {},
   "source": [
    " - <h4> Then calculate similarity between artists </h4>\n",
    " <p> For that purpose, similar formula will be used:</p>\n",
    " \n",
    " <img class=\"aligncenter size-thumbnail img-responsive\" src=\"https://latex.codecogs.com/gif.latex?s_u^{cos}(i_m,i_b)=\\frac{i_m&space;\\cdot&space;i_b&space;}{&space;\\left&space;\\|&space;i_m&space;\\right&space;\\|&space;\\left&space;\\|&space;i_b&space;\\right&space;\\|&space;}&space;=\\frac{\\sum&space;x_{a,m}x_{a,b}}{\\sqrt{\\sum&space;x_{a,m}^2\\sum&space;x_{a,b}^2}}\n",
    "\"/>"
   ]
  },
  {
   "cell_type": "code",
   "execution_count": 31,
   "metadata": {
    "collapsed": true
   },
   "outputs": [],
   "source": [
    "#Next calculate similarity between artists\n",
    "artist_similarity = pairwise_distances(train_data_matrix.T, metric = 'cosine')"
   ]
  },
  {
   "cell_type": "code",
   "execution_count": 35,
   "metadata": {
    "collapsed": false
   },
   "outputs": [],
   "source": [
    "def predict_ratings (ratings, similarity, type = 'user'):\n",
    "    if type =='user':\n",
    "        mean_user_rating = ratings.mean(axis = 1)\n",
    "        #We use np.newaxis so that mean_user_rating has same format as ratings\n",
    "        ratings_diff = (ratings - mean_user_rating[:, np.newaxis])\n",
    "        prediction = mean_user_rating[:, np.newaxis] + similarity.dot(ratings_diff) / np.array([np.abs(similarity).sum(axis=1)]).T\n",
    "    elif type == 'artist':\n",
    "        prediction = ratings.dot(similarity) / np.array([np.abs(similarity).sum(axis=1)])     \n",
    "    return prediction"
   ]
  },
  {
   "cell_type": "code",
   "execution_count": 40,
   "metadata": {
    "collapsed": false
   },
   "outputs": [],
   "source": [
    "#Get predictions\n",
    "user_prediction = predict_ratings(train_data_matrix, user_similarity, type ='user')\n",
    "artist_prediction = predict_ratings(train_data_matrix, artist_similarity, type = 'artist')"
   ]
  },
  {
   "cell_type": "markdown",
   "metadata": {},
   "source": [
    "- <h4> Evaluate model performance using RMSE : </h4>\n",
    "<img src=\"https://latex.codecogs.com/gif.latex?RMSE&space;=\\sqrt{\\frac{1}{N}&space;\\sum&space;(x_i&space;-\\hat{x_i})^2}\" title=\"RMSE =\\sqrt{\\frac{1}{N} \\sum (x_i -\\hat{x_i})^2}\" />"
   ]
  },
  {
   "cell_type": "code",
   "execution_count": 41,
   "metadata": {
    "collapsed": true
   },
   "outputs": [],
   "source": [
    "def rmse(prediction, ground_truth):\n",
    "    prediction = prediction[ground_truth.nonzero()].flatten() \n",
    "    ground_truth = ground_truth[ground_truth.nonzero()].flatten()\n",
    "    return sqrt(mean_squared_error(prediction, ground_truth))"
   ]
  },
  {
   "cell_type": "code",
   "execution_count": 43,
   "metadata": {
    "collapsed": false
   },
   "outputs": [
    {
     "name": "stdout",
     "output_type": "stream",
     "text": [
      "User-based CF RMSE: 4.352838124246542\n",
      "Artist-based CF RMSE: 4.370581815048999\n"
     ]
    }
   ],
   "source": [
    "print('User-based CF RMSE: ' + str(rmse(user_prediction, test_data_matrix)))\n",
    "print('Artist-based CF RMSE: ' + str(rmse(artist_prediction, test_data_matrix)))"
   ]
  },
  {
   "cell_type": "code",
   "execution_count": 48,
   "metadata": {
    "collapsed": false
   },
   "outputs": [
    {
     "data": {
      "text/plain": [
       "array([[0.        , 1.        , 0.91607004, ..., 1.        , 1.        ,\n",
       "        1.        ],\n",
       "       [1.        , 0.        , 1.        , ..., 1.        , 1.        ,\n",
       "        1.        ],\n",
       "       [0.91607004, 1.        , 0.        , ..., 1.        , 1.        ,\n",
       "        1.        ],\n",
       "       ...,\n",
       "       [1.        , 1.        , 1.        , ..., 0.        , 1.        ,\n",
       "        1.        ],\n",
       "       [1.        , 1.        , 1.        , ..., 1.        , 0.        ,\n",
       "        1.        ],\n",
       "       [1.        , 1.        , 1.        , ..., 1.        , 1.        ,\n",
       "        0.        ]])"
      ]
     },
     "execution_count": 48,
     "metadata": {},
     "output_type": "execute_result"
    }
   ],
   "source": [
    "#Return for the given user_id 10 most similar users\n",
    "user_similarity"
   ]
  },
  {
   "cell_type": "code",
   "execution_count": null,
   "metadata": {
    "collapsed": true
   },
   "outputs": [],
   "source": []
  },
  {
   "cell_type": "markdown",
   "metadata": {},
   "source": [
    "# Model-Based Collaborative filtering"
   ]
  },
  {
   "cell_type": "code",
   "execution_count": null,
   "metadata": {
    "collapsed": true
   },
   "outputs": [],
   "source": []
  }
 ],
 "metadata": {
  "anaconda-cloud": {},
  "kernelspec": {
   "display_name": "Python [default]",
   "language": "python",
   "name": "python3"
  },
  "language_info": {
   "codemirror_mode": {
    "name": "ipython",
    "version": 3
   },
   "file_extension": ".py",
   "mimetype": "text/x-python",
   "name": "python",
   "nbconvert_exporter": "python",
   "pygments_lexer": "ipython3",
   "version": "3.5.2"
  }
 },
 "nbformat": 4,
 "nbformat_minor": 2
}
